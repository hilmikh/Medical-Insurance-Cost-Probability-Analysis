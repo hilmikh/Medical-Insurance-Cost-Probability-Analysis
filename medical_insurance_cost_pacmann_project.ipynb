{
  "metadata": {
    "kernelspec": {
      "language": "python",
      "display_name": "Python 3",
      "name": "python3"
    },
    "language_info": {
      "pygments_lexer": "ipython3",
      "nbconvert_exporter": "python",
      "version": "3.6.4",
      "file_extension": ".py",
      "codemirror_mode": {
        "name": "ipython",
        "version": 3
      },
      "name": "python",
      "mimetype": "text/x-python"
    },
    "colab": {
      "provenance": [],
      "collapsed_sections": []
    }
  },
  "nbformat_minor": 0,
  "nbformat": 4,
  "cells": [
    {
      "cell_type": "markdown",
      "source": [
        "**<font size=8> Final Project - Probability Course: Medical Insurance Cost**"
      ],
      "metadata": {
        "id": "-4GtJo_2fC7J"
      }
    },
    {
      "cell_type": "markdown",
      "source": [
        "This project focus on the analysis of treatment cost of policyholder with the emphasize in probability. The treatment cost depends can be affected by many variables, hence this project will focus on determining the significant variables which affect the cost by using various probabilty tools."
      ],
      "metadata": {
        "id": "JhDTYFChfC7O"
      }
    },
    {
      "cell_type": "markdown",
      "source": [
        "**Importing Necessary Library**"
      ],
      "metadata": {
        "id": "XsAFqFDqfC7O"
      }
    },
    {
      "cell_type": "code",
      "source": [
        "import pandas as pd\n",
        "import numpy as np\n",
        "import matplotlib.pyplot as plt\n",
        "import seaborn as sns\n",
        "import scipy.stats as stats\n",
        "import warnings\n",
        "warnings.filterwarnings('ignore')\n",
        "from scipy.stats import chi2_contingency"
      ],
      "metadata": {
        "execution": {
          "iopub.status.busy": "2022-10-07T20:47:54.083216Z",
          "iopub.execute_input": "2022-10-07T20:47:54.083712Z",
          "iopub.status.idle": "2022-10-07T20:47:54.091228Z",
          "shell.execute_reply.started": "2022-10-07T20:47:54.083663Z",
          "shell.execute_reply": "2022-10-07T20:47:54.089231Z"
        },
        "trusted": true,
        "id": "Y9Xamdd_fC7P"
      },
      "execution_count": 2,
      "outputs": []
    },
    {
      "cell_type": "markdown",
      "source": [
        "**Importing and checking the dataset**"
      ],
      "metadata": {
        "id": "LFycpjTpfC7Q"
      }
    },
    {
      "cell_type": "code",
      "source": [
        "from google.colab import drive\n",
        "drive.mount('/content/gdrive')"
      ],
      "metadata": {
        "colab": {
          "base_uri": "https://localhost:8080/"
        },
        "id": "vEAAop-SfIDI",
        "outputId": "fc0a26c8-be55-4555-afd9-f36c37d1b0e8"
      },
      "execution_count": 3,
      "outputs": [
        {
          "output_type": "stream",
          "name": "stdout",
          "text": [
            "Drive already mounted at /content/gdrive; to attempt to forcibly remount, call drive.mount(\"/content/gdrive\", force_remount=True).\n"
          ]
        }
      ]
    },
    {
      "cell_type": "code",
      "source": [
        "insurance_data = pd.read_csv(\"gdrive/My Drive/Colab Notebooks/Tugas Pacmann/Intro to Prob/Project/insurance.csv\")\n",
        "insurance_data"
      ],
      "metadata": {
        "execution": {
          "iopub.status.busy": "2022-10-07T20:47:19.809166Z",
          "iopub.execute_input": "2022-10-07T20:47:19.809520Z",
          "iopub.status.idle": "2022-10-07T20:47:19.861331Z",
          "shell.execute_reply.started": "2022-10-07T20:47:19.809485Z",
          "shell.execute_reply": "2022-10-07T20:47:19.859803Z"
        },
        "trusted": true,
        "colab": {
          "base_uri": "https://localhost:8080/",
          "height": 424
        },
        "id": "IMz2dwdKfC7R",
        "outputId": "c303cba4-c12f-4382-8ae4-fef41c7792bc"
      },
      "execution_count": 4,
      "outputs": [
        {
          "output_type": "execute_result",
          "data": {
            "text/plain": [
              "      age     sex     bmi  children smoker     region      charges\n",
              "0      19  female  27.900         0    yes  southwest  16884.92400\n",
              "1      18    male  33.770         1     no  southeast   1725.55230\n",
              "2      28    male  33.000         3     no  southeast   4449.46200\n",
              "3      33    male  22.705         0     no  northwest  21984.47061\n",
              "4      32    male  28.880         0     no  northwest   3866.85520\n",
              "...   ...     ...     ...       ...    ...        ...          ...\n",
              "1333   50    male  30.970         3     no  northwest  10600.54830\n",
              "1334   18  female  31.920         0     no  northeast   2205.98080\n",
              "1335   18  female  36.850         0     no  southeast   1629.83350\n",
              "1336   21  female  25.800         0     no  southwest   2007.94500\n",
              "1337   61  female  29.070         0    yes  northwest  29141.36030\n",
              "\n",
              "[1338 rows x 7 columns]"
            ],
            "text/html": [
              "\n",
              "  <div id=\"df-a98d5349-22e8-4619-8d36-df358b71c6fa\">\n",
              "    <div class=\"colab-df-container\">\n",
              "      <div>\n",
              "<style scoped>\n",
              "    .dataframe tbody tr th:only-of-type {\n",
              "        vertical-align: middle;\n",
              "    }\n",
              "\n",
              "    .dataframe tbody tr th {\n",
              "        vertical-align: top;\n",
              "    }\n",
              "\n",
              "    .dataframe thead th {\n",
              "        text-align: right;\n",
              "    }\n",
              "</style>\n",
              "<table border=\"1\" class=\"dataframe\">\n",
              "  <thead>\n",
              "    <tr style=\"text-align: right;\">\n",
              "      <th></th>\n",
              "      <th>age</th>\n",
              "      <th>sex</th>\n",
              "      <th>bmi</th>\n",
              "      <th>children</th>\n",
              "      <th>smoker</th>\n",
              "      <th>region</th>\n",
              "      <th>charges</th>\n",
              "    </tr>\n",
              "  </thead>\n",
              "  <tbody>\n",
              "    <tr>\n",
              "      <th>0</th>\n",
              "      <td>19</td>\n",
              "      <td>female</td>\n",
              "      <td>27.900</td>\n",
              "      <td>0</td>\n",
              "      <td>yes</td>\n",
              "      <td>southwest</td>\n",
              "      <td>16884.92400</td>\n",
              "    </tr>\n",
              "    <tr>\n",
              "      <th>1</th>\n",
              "      <td>18</td>\n",
              "      <td>male</td>\n",
              "      <td>33.770</td>\n",
              "      <td>1</td>\n",
              "      <td>no</td>\n",
              "      <td>southeast</td>\n",
              "      <td>1725.55230</td>\n",
              "    </tr>\n",
              "    <tr>\n",
              "      <th>2</th>\n",
              "      <td>28</td>\n",
              "      <td>male</td>\n",
              "      <td>33.000</td>\n",
              "      <td>3</td>\n",
              "      <td>no</td>\n",
              "      <td>southeast</td>\n",
              "      <td>4449.46200</td>\n",
              "    </tr>\n",
              "    <tr>\n",
              "      <th>3</th>\n",
              "      <td>33</td>\n",
              "      <td>male</td>\n",
              "      <td>22.705</td>\n",
              "      <td>0</td>\n",
              "      <td>no</td>\n",
              "      <td>northwest</td>\n",
              "      <td>21984.47061</td>\n",
              "    </tr>\n",
              "    <tr>\n",
              "      <th>4</th>\n",
              "      <td>32</td>\n",
              "      <td>male</td>\n",
              "      <td>28.880</td>\n",
              "      <td>0</td>\n",
              "      <td>no</td>\n",
              "      <td>northwest</td>\n",
              "      <td>3866.85520</td>\n",
              "    </tr>\n",
              "    <tr>\n",
              "      <th>...</th>\n",
              "      <td>...</td>\n",
              "      <td>...</td>\n",
              "      <td>...</td>\n",
              "      <td>...</td>\n",
              "      <td>...</td>\n",
              "      <td>...</td>\n",
              "      <td>...</td>\n",
              "    </tr>\n",
              "    <tr>\n",
              "      <th>1333</th>\n",
              "      <td>50</td>\n",
              "      <td>male</td>\n",
              "      <td>30.970</td>\n",
              "      <td>3</td>\n",
              "      <td>no</td>\n",
              "      <td>northwest</td>\n",
              "      <td>10600.54830</td>\n",
              "    </tr>\n",
              "    <tr>\n",
              "      <th>1334</th>\n",
              "      <td>18</td>\n",
              "      <td>female</td>\n",
              "      <td>31.920</td>\n",
              "      <td>0</td>\n",
              "      <td>no</td>\n",
              "      <td>northeast</td>\n",
              "      <td>2205.98080</td>\n",
              "    </tr>\n",
              "    <tr>\n",
              "      <th>1335</th>\n",
              "      <td>18</td>\n",
              "      <td>female</td>\n",
              "      <td>36.850</td>\n",
              "      <td>0</td>\n",
              "      <td>no</td>\n",
              "      <td>southeast</td>\n",
              "      <td>1629.83350</td>\n",
              "    </tr>\n",
              "    <tr>\n",
              "      <th>1336</th>\n",
              "      <td>21</td>\n",
              "      <td>female</td>\n",
              "      <td>25.800</td>\n",
              "      <td>0</td>\n",
              "      <td>no</td>\n",
              "      <td>southwest</td>\n",
              "      <td>2007.94500</td>\n",
              "    </tr>\n",
              "    <tr>\n",
              "      <th>1337</th>\n",
              "      <td>61</td>\n",
              "      <td>female</td>\n",
              "      <td>29.070</td>\n",
              "      <td>0</td>\n",
              "      <td>yes</td>\n",
              "      <td>northwest</td>\n",
              "      <td>29141.36030</td>\n",
              "    </tr>\n",
              "  </tbody>\n",
              "</table>\n",
              "<p>1338 rows × 7 columns</p>\n",
              "</div>\n",
              "      <button class=\"colab-df-convert\" onclick=\"convertToInteractive('df-a98d5349-22e8-4619-8d36-df358b71c6fa')\"\n",
              "              title=\"Convert this dataframe to an interactive table.\"\n",
              "              style=\"display:none;\">\n",
              "        \n",
              "  <svg xmlns=\"http://www.w3.org/2000/svg\" height=\"24px\"viewBox=\"0 0 24 24\"\n",
              "       width=\"24px\">\n",
              "    <path d=\"M0 0h24v24H0V0z\" fill=\"none\"/>\n",
              "    <path d=\"M18.56 5.44l.94 2.06.94-2.06 2.06-.94-2.06-.94-.94-2.06-.94 2.06-2.06.94zm-11 1L8.5 8.5l.94-2.06 2.06-.94-2.06-.94L8.5 2.5l-.94 2.06-2.06.94zm10 10l.94 2.06.94-2.06 2.06-.94-2.06-.94-.94-2.06-.94 2.06-2.06.94z\"/><path d=\"M17.41 7.96l-1.37-1.37c-.4-.4-.92-.59-1.43-.59-.52 0-1.04.2-1.43.59L10.3 9.45l-7.72 7.72c-.78.78-.78 2.05 0 2.83L4 21.41c.39.39.9.59 1.41.59.51 0 1.02-.2 1.41-.59l7.78-7.78 2.81-2.81c.8-.78.8-2.07 0-2.86zM5.41 20L4 18.59l7.72-7.72 1.47 1.35L5.41 20z\"/>\n",
              "  </svg>\n",
              "      </button>\n",
              "      \n",
              "  <style>\n",
              "    .colab-df-container {\n",
              "      display:flex;\n",
              "      flex-wrap:wrap;\n",
              "      gap: 12px;\n",
              "    }\n",
              "\n",
              "    .colab-df-convert {\n",
              "      background-color: #E8F0FE;\n",
              "      border: none;\n",
              "      border-radius: 50%;\n",
              "      cursor: pointer;\n",
              "      display: none;\n",
              "      fill: #1967D2;\n",
              "      height: 32px;\n",
              "      padding: 0 0 0 0;\n",
              "      width: 32px;\n",
              "    }\n",
              "\n",
              "    .colab-df-convert:hover {\n",
              "      background-color: #E2EBFA;\n",
              "      box-shadow: 0px 1px 2px rgba(60, 64, 67, 0.3), 0px 1px 3px 1px rgba(60, 64, 67, 0.15);\n",
              "      fill: #174EA6;\n",
              "    }\n",
              "\n",
              "    [theme=dark] .colab-df-convert {\n",
              "      background-color: #3B4455;\n",
              "      fill: #D2E3FC;\n",
              "    }\n",
              "\n",
              "    [theme=dark] .colab-df-convert:hover {\n",
              "      background-color: #434B5C;\n",
              "      box-shadow: 0px 1px 3px 1px rgba(0, 0, 0, 0.15);\n",
              "      filter: drop-shadow(0px 1px 2px rgba(0, 0, 0, 0.3));\n",
              "      fill: #FFFFFF;\n",
              "    }\n",
              "  </style>\n",
              "\n",
              "      <script>\n",
              "        const buttonEl =\n",
              "          document.querySelector('#df-a98d5349-22e8-4619-8d36-df358b71c6fa button.colab-df-convert');\n",
              "        buttonEl.style.display =\n",
              "          google.colab.kernel.accessAllowed ? 'block' : 'none';\n",
              "\n",
              "        async function convertToInteractive(key) {\n",
              "          const element = document.querySelector('#df-a98d5349-22e8-4619-8d36-df358b71c6fa');\n",
              "          const dataTable =\n",
              "            await google.colab.kernel.invokeFunction('convertToInteractive',\n",
              "                                                     [key], {});\n",
              "          if (!dataTable) return;\n",
              "\n",
              "          const docLinkHtml = 'Like what you see? Visit the ' +\n",
              "            '<a target=\"_blank\" href=https://colab.research.google.com/notebooks/data_table.ipynb>data table notebook</a>'\n",
              "            + ' to learn more about interactive tables.';\n",
              "          element.innerHTML = '';\n",
              "          dataTable['output_type'] = 'display_data';\n",
              "          await google.colab.output.renderOutput(dataTable, element);\n",
              "          const docLink = document.createElement('div');\n",
              "          docLink.innerHTML = docLinkHtml;\n",
              "          element.appendChild(docLink);\n",
              "        }\n",
              "      </script>\n",
              "    </div>\n",
              "  </div>\n",
              "  "
            ]
          },
          "metadata": {},
          "execution_count": 4
        }
      ]
    },
    {
      "cell_type": "code",
      "source": [
        "insurance_data.info() #checking column data types"
      ],
      "metadata": {
        "execution": {
          "iopub.status.busy": "2022-10-07T20:47:19.863327Z",
          "iopub.execute_input": "2022-10-07T20:47:19.863939Z",
          "iopub.status.idle": "2022-10-07T20:47:19.890864Z",
          "shell.execute_reply.started": "2022-10-07T20:47:19.863903Z",
          "shell.execute_reply": "2022-10-07T20:47:19.889540Z"
        },
        "trusted": true,
        "colab": {
          "base_uri": "https://localhost:8080/"
        },
        "id": "yCDeUxHufC7R",
        "outputId": "4e8fe622-6342-4a69-ec68-f47464fd64a9"
      },
      "execution_count": 5,
      "outputs": [
        {
          "output_type": "stream",
          "name": "stdout",
          "text": [
            "<class 'pandas.core.frame.DataFrame'>\n",
            "RangeIndex: 1338 entries, 0 to 1337\n",
            "Data columns (total 7 columns):\n",
            " #   Column    Non-Null Count  Dtype  \n",
            "---  ------    --------------  -----  \n",
            " 0   age       1338 non-null   int64  \n",
            " 1   sex       1338 non-null   object \n",
            " 2   bmi       1338 non-null   float64\n",
            " 3   children  1338 non-null   int64  \n",
            " 4   smoker    1338 non-null   object \n",
            " 5   region    1338 non-null   object \n",
            " 6   charges   1338 non-null   float64\n",
            "dtypes: float64(2), int64(2), object(3)\n",
            "memory usage: 73.3+ KB\n"
          ]
        }
      ]
    },
    {
      "cell_type": "code",
      "source": [
        "insurance_data.isnull().sum() #checking missing value in datasets"
      ],
      "metadata": {
        "execution": {
          "iopub.status.busy": "2022-10-07T20:47:19.894047Z",
          "iopub.execute_input": "2022-10-07T20:47:19.894405Z",
          "iopub.status.idle": "2022-10-07T20:47:19.903945Z",
          "shell.execute_reply.started": "2022-10-07T20:47:19.894371Z",
          "shell.execute_reply": "2022-10-07T20:47:19.902754Z"
        },
        "trusted": true,
        "colab": {
          "base_uri": "https://localhost:8080/"
        },
        "id": "5c90q7Y9fC7S",
        "outputId": "cd5b02be-1f1c-4d01-df19-96ebad6651d8"
      },
      "execution_count": 6,
      "outputs": [
        {
          "output_type": "execute_result",
          "data": {
            "text/plain": [
              "age         0\n",
              "sex         0\n",
              "bmi         0\n",
              "children    0\n",
              "smoker      0\n",
              "region      0\n",
              "charges     0\n",
              "dtype: int64"
            ]
          },
          "metadata": {},
          "execution_count": 6
        }
      ]
    },
    {
      "cell_type": "markdown",
      "source": [
        "**<font size=5>A. Descriptive Statistics Analysis**"
      ],
      "metadata": {
        "id": "xMQLxhGyfC7T"
      }
    },
    {
      "cell_type": "markdown",
      "source": [
        "**1. General Mean & Median**"
      ],
      "metadata": {
        "id": "F9n4ysbXfC7T"
      }
    },
    {
      "cell_type": "code",
      "source": [
        "insurance_data.describe()"
      ],
      "metadata": {
        "execution": {
          "iopub.status.busy": "2022-10-07T20:47:19.905239Z",
          "iopub.execute_input": "2022-10-07T20:47:19.906202Z",
          "iopub.status.idle": "2022-10-07T20:47:19.934810Z",
          "shell.execute_reply.started": "2022-10-07T20:47:19.906167Z",
          "shell.execute_reply": "2022-10-07T20:47:19.933995Z"
        },
        "trusted": true,
        "colab": {
          "base_uri": "https://localhost:8080/",
          "height": 300
        },
        "id": "mZDlHozJfC7U",
        "outputId": "5fd54835-a897-4f91-b3b1-f5946bebc9cd"
      },
      "execution_count": 7,
      "outputs": [
        {
          "output_type": "execute_result",
          "data": {
            "text/plain": [
              "               age          bmi     children       charges\n",
              "count  1338.000000  1338.000000  1338.000000   1338.000000\n",
              "mean     39.207025    30.663397     1.094918  13270.422265\n",
              "std      14.049960     6.098187     1.205493  12110.011237\n",
              "min      18.000000    15.960000     0.000000   1121.873900\n",
              "25%      27.000000    26.296250     0.000000   4740.287150\n",
              "50%      39.000000    30.400000     1.000000   9382.033000\n",
              "75%      51.000000    34.693750     2.000000  16639.912515\n",
              "max      64.000000    53.130000     5.000000  63770.428010"
            ],
            "text/html": [
              "\n",
              "  <div id=\"df-356bea89-9928-4baa-8729-9907a4b90ed7\">\n",
              "    <div class=\"colab-df-container\">\n",
              "      <div>\n",
              "<style scoped>\n",
              "    .dataframe tbody tr th:only-of-type {\n",
              "        vertical-align: middle;\n",
              "    }\n",
              "\n",
              "    .dataframe tbody tr th {\n",
              "        vertical-align: top;\n",
              "    }\n",
              "\n",
              "    .dataframe thead th {\n",
              "        text-align: right;\n",
              "    }\n",
              "</style>\n",
              "<table border=\"1\" class=\"dataframe\">\n",
              "  <thead>\n",
              "    <tr style=\"text-align: right;\">\n",
              "      <th></th>\n",
              "      <th>age</th>\n",
              "      <th>bmi</th>\n",
              "      <th>children</th>\n",
              "      <th>charges</th>\n",
              "    </tr>\n",
              "  </thead>\n",
              "  <tbody>\n",
              "    <tr>\n",
              "      <th>count</th>\n",
              "      <td>1338.000000</td>\n",
              "      <td>1338.000000</td>\n",
              "      <td>1338.000000</td>\n",
              "      <td>1338.000000</td>\n",
              "    </tr>\n",
              "    <tr>\n",
              "      <th>mean</th>\n",
              "      <td>39.207025</td>\n",
              "      <td>30.663397</td>\n",
              "      <td>1.094918</td>\n",
              "      <td>13270.422265</td>\n",
              "    </tr>\n",
              "    <tr>\n",
              "      <th>std</th>\n",
              "      <td>14.049960</td>\n",
              "      <td>6.098187</td>\n",
              "      <td>1.205493</td>\n",
              "      <td>12110.011237</td>\n",
              "    </tr>\n",
              "    <tr>\n",
              "      <th>min</th>\n",
              "      <td>18.000000</td>\n",
              "      <td>15.960000</td>\n",
              "      <td>0.000000</td>\n",
              "      <td>1121.873900</td>\n",
              "    </tr>\n",
              "    <tr>\n",
              "      <th>25%</th>\n",
              "      <td>27.000000</td>\n",
              "      <td>26.296250</td>\n",
              "      <td>0.000000</td>\n",
              "      <td>4740.287150</td>\n",
              "    </tr>\n",
              "    <tr>\n",
              "      <th>50%</th>\n",
              "      <td>39.000000</td>\n",
              "      <td>30.400000</td>\n",
              "      <td>1.000000</td>\n",
              "      <td>9382.033000</td>\n",
              "    </tr>\n",
              "    <tr>\n",
              "      <th>75%</th>\n",
              "      <td>51.000000</td>\n",
              "      <td>34.693750</td>\n",
              "      <td>2.000000</td>\n",
              "      <td>16639.912515</td>\n",
              "    </tr>\n",
              "    <tr>\n",
              "      <th>max</th>\n",
              "      <td>64.000000</td>\n",
              "      <td>53.130000</td>\n",
              "      <td>5.000000</td>\n",
              "      <td>63770.428010</td>\n",
              "    </tr>\n",
              "  </tbody>\n",
              "</table>\n",
              "</div>\n",
              "      <button class=\"colab-df-convert\" onclick=\"convertToInteractive('df-356bea89-9928-4baa-8729-9907a4b90ed7')\"\n",
              "              title=\"Convert this dataframe to an interactive table.\"\n",
              "              style=\"display:none;\">\n",
              "        \n",
              "  <svg xmlns=\"http://www.w3.org/2000/svg\" height=\"24px\"viewBox=\"0 0 24 24\"\n",
              "       width=\"24px\">\n",
              "    <path d=\"M0 0h24v24H0V0z\" fill=\"none\"/>\n",
              "    <path d=\"M18.56 5.44l.94 2.06.94-2.06 2.06-.94-2.06-.94-.94-2.06-.94 2.06-2.06.94zm-11 1L8.5 8.5l.94-2.06 2.06-.94-2.06-.94L8.5 2.5l-.94 2.06-2.06.94zm10 10l.94 2.06.94-2.06 2.06-.94-2.06-.94-.94-2.06-.94 2.06-2.06.94z\"/><path d=\"M17.41 7.96l-1.37-1.37c-.4-.4-.92-.59-1.43-.59-.52 0-1.04.2-1.43.59L10.3 9.45l-7.72 7.72c-.78.78-.78 2.05 0 2.83L4 21.41c.39.39.9.59 1.41.59.51 0 1.02-.2 1.41-.59l7.78-7.78 2.81-2.81c.8-.78.8-2.07 0-2.86zM5.41 20L4 18.59l7.72-7.72 1.47 1.35L5.41 20z\"/>\n",
              "  </svg>\n",
              "      </button>\n",
              "      \n",
              "  <style>\n",
              "    .colab-df-container {\n",
              "      display:flex;\n",
              "      flex-wrap:wrap;\n",
              "      gap: 12px;\n",
              "    }\n",
              "\n",
              "    .colab-df-convert {\n",
              "      background-color: #E8F0FE;\n",
              "      border: none;\n",
              "      border-radius: 50%;\n",
              "      cursor: pointer;\n",
              "      display: none;\n",
              "      fill: #1967D2;\n",
              "      height: 32px;\n",
              "      padding: 0 0 0 0;\n",
              "      width: 32px;\n",
              "    }\n",
              "\n",
              "    .colab-df-convert:hover {\n",
              "      background-color: #E2EBFA;\n",
              "      box-shadow: 0px 1px 2px rgba(60, 64, 67, 0.3), 0px 1px 3px 1px rgba(60, 64, 67, 0.15);\n",
              "      fill: #174EA6;\n",
              "    }\n",
              "\n",
              "    [theme=dark] .colab-df-convert {\n",
              "      background-color: #3B4455;\n",
              "      fill: #D2E3FC;\n",
              "    }\n",
              "\n",
              "    [theme=dark] .colab-df-convert:hover {\n",
              "      background-color: #434B5C;\n",
              "      box-shadow: 0px 1px 3px 1px rgba(0, 0, 0, 0.15);\n",
              "      filter: drop-shadow(0px 1px 2px rgba(0, 0, 0, 0.3));\n",
              "      fill: #FFFFFF;\n",
              "    }\n",
              "  </style>\n",
              "\n",
              "      <script>\n",
              "        const buttonEl =\n",
              "          document.querySelector('#df-356bea89-9928-4baa-8729-9907a4b90ed7 button.colab-df-convert');\n",
              "        buttonEl.style.display =\n",
              "          google.colab.kernel.accessAllowed ? 'block' : 'none';\n",
              "\n",
              "        async function convertToInteractive(key) {\n",
              "          const element = document.querySelector('#df-356bea89-9928-4baa-8729-9907a4b90ed7');\n",
              "          const dataTable =\n",
              "            await google.colab.kernel.invokeFunction('convertToInteractive',\n",
              "                                                     [key], {});\n",
              "          if (!dataTable) return;\n",
              "\n",
              "          const docLinkHtml = 'Like what you see? Visit the ' +\n",
              "            '<a target=\"_blank\" href=https://colab.research.google.com/notebooks/data_table.ipynb>data table notebook</a>'\n",
              "            + ' to learn more about interactive tables.';\n",
              "          element.innerHTML = '';\n",
              "          dataTable['output_type'] = 'display_data';\n",
              "          await google.colab.output.renderOutput(dataTable, element);\n",
              "          const docLink = document.createElement('div');\n",
              "          docLink.innerHTML = docLinkHtml;\n",
              "          element.appendChild(docLink);\n",
              "        }\n",
              "      </script>\n",
              "    </div>\n",
              "  </div>\n",
              "  "
            ]
          },
          "metadata": {},
          "execution_count": 7
        }
      ]
    },
    {
      "cell_type": "markdown",
      "source": [
        "**2. Mean & Median Based on Smoker Status**"
      ],
      "metadata": {
        "id": "MkfID-mgfC7U"
      }
    },
    {
      "cell_type": "markdown",
      "source": [
        "a. Mean & Median of **Smoker** Policyholder"
      ],
      "metadata": {
        "id": "AmmMtelufC7V"
      }
    },
    {
      "cell_type": "code",
      "source": [
        "insurance_data[insurance_data['smoker'] == 'yes'].describe()"
      ],
      "metadata": {
        "execution": {
          "iopub.status.busy": "2022-10-07T20:47:19.935888Z",
          "iopub.execute_input": "2022-10-07T20:47:19.936680Z",
          "iopub.status.idle": "2022-10-07T20:47:19.960847Z",
          "shell.execute_reply.started": "2022-10-07T20:47:19.936633Z",
          "shell.execute_reply": "2022-10-07T20:47:19.959570Z"
        },
        "trusted": true,
        "colab": {
          "base_uri": "https://localhost:8080/",
          "height": 300
        },
        "id": "FXpdw7y6fC7V",
        "outputId": "1b276146-23ab-4124-deb0-1d266073070a"
      },
      "execution_count": 8,
      "outputs": [
        {
          "output_type": "execute_result",
          "data": {
            "text/plain": [
              "              age         bmi    children       charges\n",
              "count  274.000000  274.000000  274.000000    274.000000\n",
              "mean    38.514599   30.708449    1.113139  32050.231832\n",
              "std     13.923186    6.318644    1.157066  11541.547176\n",
              "min     18.000000   17.195000    0.000000  12829.455100\n",
              "25%     27.000000   26.083750    0.000000  20826.244213\n",
              "50%     38.000000   30.447500    1.000000  34456.348450\n",
              "75%     49.000000   35.200000    2.000000  41019.207275\n",
              "max     64.000000   52.580000    5.000000  63770.428010"
            ],
            "text/html": [
              "\n",
              "  <div id=\"df-95d96e1d-d2bd-4b05-b427-1f44ae2bbf4d\">\n",
              "    <div class=\"colab-df-container\">\n",
              "      <div>\n",
              "<style scoped>\n",
              "    .dataframe tbody tr th:only-of-type {\n",
              "        vertical-align: middle;\n",
              "    }\n",
              "\n",
              "    .dataframe tbody tr th {\n",
              "        vertical-align: top;\n",
              "    }\n",
              "\n",
              "    .dataframe thead th {\n",
              "        text-align: right;\n",
              "    }\n",
              "</style>\n",
              "<table border=\"1\" class=\"dataframe\">\n",
              "  <thead>\n",
              "    <tr style=\"text-align: right;\">\n",
              "      <th></th>\n",
              "      <th>age</th>\n",
              "      <th>bmi</th>\n",
              "      <th>children</th>\n",
              "      <th>charges</th>\n",
              "    </tr>\n",
              "  </thead>\n",
              "  <tbody>\n",
              "    <tr>\n",
              "      <th>count</th>\n",
              "      <td>274.000000</td>\n",
              "      <td>274.000000</td>\n",
              "      <td>274.000000</td>\n",
              "      <td>274.000000</td>\n",
              "    </tr>\n",
              "    <tr>\n",
              "      <th>mean</th>\n",
              "      <td>38.514599</td>\n",
              "      <td>30.708449</td>\n",
              "      <td>1.113139</td>\n",
              "      <td>32050.231832</td>\n",
              "    </tr>\n",
              "    <tr>\n",
              "      <th>std</th>\n",
              "      <td>13.923186</td>\n",
              "      <td>6.318644</td>\n",
              "      <td>1.157066</td>\n",
              "      <td>11541.547176</td>\n",
              "    </tr>\n",
              "    <tr>\n",
              "      <th>min</th>\n",
              "      <td>18.000000</td>\n",
              "      <td>17.195000</td>\n",
              "      <td>0.000000</td>\n",
              "      <td>12829.455100</td>\n",
              "    </tr>\n",
              "    <tr>\n",
              "      <th>25%</th>\n",
              "      <td>27.000000</td>\n",
              "      <td>26.083750</td>\n",
              "      <td>0.000000</td>\n",
              "      <td>20826.244213</td>\n",
              "    </tr>\n",
              "    <tr>\n",
              "      <th>50%</th>\n",
              "      <td>38.000000</td>\n",
              "      <td>30.447500</td>\n",
              "      <td>1.000000</td>\n",
              "      <td>34456.348450</td>\n",
              "    </tr>\n",
              "    <tr>\n",
              "      <th>75%</th>\n",
              "      <td>49.000000</td>\n",
              "      <td>35.200000</td>\n",
              "      <td>2.000000</td>\n",
              "      <td>41019.207275</td>\n",
              "    </tr>\n",
              "    <tr>\n",
              "      <th>max</th>\n",
              "      <td>64.000000</td>\n",
              "      <td>52.580000</td>\n",
              "      <td>5.000000</td>\n",
              "      <td>63770.428010</td>\n",
              "    </tr>\n",
              "  </tbody>\n",
              "</table>\n",
              "</div>\n",
              "      <button class=\"colab-df-convert\" onclick=\"convertToInteractive('df-95d96e1d-d2bd-4b05-b427-1f44ae2bbf4d')\"\n",
              "              title=\"Convert this dataframe to an interactive table.\"\n",
              "              style=\"display:none;\">\n",
              "        \n",
              "  <svg xmlns=\"http://www.w3.org/2000/svg\" height=\"24px\"viewBox=\"0 0 24 24\"\n",
              "       width=\"24px\">\n",
              "    <path d=\"M0 0h24v24H0V0z\" fill=\"none\"/>\n",
              "    <path d=\"M18.56 5.44l.94 2.06.94-2.06 2.06-.94-2.06-.94-.94-2.06-.94 2.06-2.06.94zm-11 1L8.5 8.5l.94-2.06 2.06-.94-2.06-.94L8.5 2.5l-.94 2.06-2.06.94zm10 10l.94 2.06.94-2.06 2.06-.94-2.06-.94-.94-2.06-.94 2.06-2.06.94z\"/><path d=\"M17.41 7.96l-1.37-1.37c-.4-.4-.92-.59-1.43-.59-.52 0-1.04.2-1.43.59L10.3 9.45l-7.72 7.72c-.78.78-.78 2.05 0 2.83L4 21.41c.39.39.9.59 1.41.59.51 0 1.02-.2 1.41-.59l7.78-7.78 2.81-2.81c.8-.78.8-2.07 0-2.86zM5.41 20L4 18.59l7.72-7.72 1.47 1.35L5.41 20z\"/>\n",
              "  </svg>\n",
              "      </button>\n",
              "      \n",
              "  <style>\n",
              "    .colab-df-container {\n",
              "      display:flex;\n",
              "      flex-wrap:wrap;\n",
              "      gap: 12px;\n",
              "    }\n",
              "\n",
              "    .colab-df-convert {\n",
              "      background-color: #E8F0FE;\n",
              "      border: none;\n",
              "      border-radius: 50%;\n",
              "      cursor: pointer;\n",
              "      display: none;\n",
              "      fill: #1967D2;\n",
              "      height: 32px;\n",
              "      padding: 0 0 0 0;\n",
              "      width: 32px;\n",
              "    }\n",
              "\n",
              "    .colab-df-convert:hover {\n",
              "      background-color: #E2EBFA;\n",
              "      box-shadow: 0px 1px 2px rgba(60, 64, 67, 0.3), 0px 1px 3px 1px rgba(60, 64, 67, 0.15);\n",
              "      fill: #174EA6;\n",
              "    }\n",
              "\n",
              "    [theme=dark] .colab-df-convert {\n",
              "      background-color: #3B4455;\n",
              "      fill: #D2E3FC;\n",
              "    }\n",
              "\n",
              "    [theme=dark] .colab-df-convert:hover {\n",
              "      background-color: #434B5C;\n",
              "      box-shadow: 0px 1px 3px 1px rgba(0, 0, 0, 0.15);\n",
              "      filter: drop-shadow(0px 1px 2px rgba(0, 0, 0, 0.3));\n",
              "      fill: #FFFFFF;\n",
              "    }\n",
              "  </style>\n",
              "\n",
              "      <script>\n",
              "        const buttonEl =\n",
              "          document.querySelector('#df-95d96e1d-d2bd-4b05-b427-1f44ae2bbf4d button.colab-df-convert');\n",
              "        buttonEl.style.display =\n",
              "          google.colab.kernel.accessAllowed ? 'block' : 'none';\n",
              "\n",
              "        async function convertToInteractive(key) {\n",
              "          const element = document.querySelector('#df-95d96e1d-d2bd-4b05-b427-1f44ae2bbf4d');\n",
              "          const dataTable =\n",
              "            await google.colab.kernel.invokeFunction('convertToInteractive',\n",
              "                                                     [key], {});\n",
              "          if (!dataTable) return;\n",
              "\n",
              "          const docLinkHtml = 'Like what you see? Visit the ' +\n",
              "            '<a target=\"_blank\" href=https://colab.research.google.com/notebooks/data_table.ipynb>data table notebook</a>'\n",
              "            + ' to learn more about interactive tables.';\n",
              "          element.innerHTML = '';\n",
              "          dataTable['output_type'] = 'display_data';\n",
              "          await google.colab.output.renderOutput(dataTable, element);\n",
              "          const docLink = document.createElement('div');\n",
              "          docLink.innerHTML = docLinkHtml;\n",
              "          element.appendChild(docLink);\n",
              "        }\n",
              "      </script>\n",
              "    </div>\n",
              "  </div>\n",
              "  "
            ]
          },
          "metadata": {},
          "execution_count": 8
        }
      ]
    },
    {
      "cell_type": "markdown",
      "source": [
        "b. Mean & Median of **Nonsmoker** Policyholder"
      ],
      "metadata": {
        "id": "bw7OU_oHfC7V"
      }
    },
    {
      "cell_type": "code",
      "source": [
        "insurance_data[insurance_data['smoker'] == 'no'].describe()"
      ],
      "metadata": {
        "execution": {
          "iopub.status.busy": "2022-10-07T20:47:19.962319Z",
          "iopub.execute_input": "2022-10-07T20:47:19.962699Z",
          "iopub.status.idle": "2022-10-07T20:47:19.990750Z",
          "shell.execute_reply.started": "2022-10-07T20:47:19.962643Z",
          "shell.execute_reply": "2022-10-07T20:47:19.989598Z"
        },
        "trusted": true,
        "colab": {
          "base_uri": "https://localhost:8080/",
          "height": 300
        },
        "id": "FcwZEFsnfC7W",
        "outputId": "700e3e7e-35ec-44cf-a9e4-e388d50b6ac3"
      },
      "execution_count": 9,
      "outputs": [
        {
          "output_type": "execute_result",
          "data": {
            "text/plain": [
              "               age          bmi     children       charges\n",
              "count  1064.000000  1064.000000  1064.000000   1064.000000\n",
              "mean     39.385338    30.651795     1.090226   8434.268298\n",
              "std      14.083410     6.043111     1.218136   5993.781819\n",
              "min      18.000000    15.960000     0.000000   1121.873900\n",
              "25%      26.750000    26.315000     0.000000   3986.438700\n",
              "50%      40.000000    30.352500     1.000000   7345.405300\n",
              "75%      52.000000    34.430000     2.000000  11362.887050\n",
              "max      64.000000    53.130000     5.000000  36910.608030"
            ],
            "text/html": [
              "\n",
              "  <div id=\"df-ca8917d8-d4f6-4158-b00a-3bd113bc4bd6\">\n",
              "    <div class=\"colab-df-container\">\n",
              "      <div>\n",
              "<style scoped>\n",
              "    .dataframe tbody tr th:only-of-type {\n",
              "        vertical-align: middle;\n",
              "    }\n",
              "\n",
              "    .dataframe tbody tr th {\n",
              "        vertical-align: top;\n",
              "    }\n",
              "\n",
              "    .dataframe thead th {\n",
              "        text-align: right;\n",
              "    }\n",
              "</style>\n",
              "<table border=\"1\" class=\"dataframe\">\n",
              "  <thead>\n",
              "    <tr style=\"text-align: right;\">\n",
              "      <th></th>\n",
              "      <th>age</th>\n",
              "      <th>bmi</th>\n",
              "      <th>children</th>\n",
              "      <th>charges</th>\n",
              "    </tr>\n",
              "  </thead>\n",
              "  <tbody>\n",
              "    <tr>\n",
              "      <th>count</th>\n",
              "      <td>1064.000000</td>\n",
              "      <td>1064.000000</td>\n",
              "      <td>1064.000000</td>\n",
              "      <td>1064.000000</td>\n",
              "    </tr>\n",
              "    <tr>\n",
              "      <th>mean</th>\n",
              "      <td>39.385338</td>\n",
              "      <td>30.651795</td>\n",
              "      <td>1.090226</td>\n",
              "      <td>8434.268298</td>\n",
              "    </tr>\n",
              "    <tr>\n",
              "      <th>std</th>\n",
              "      <td>14.083410</td>\n",
              "      <td>6.043111</td>\n",
              "      <td>1.218136</td>\n",
              "      <td>5993.781819</td>\n",
              "    </tr>\n",
              "    <tr>\n",
              "      <th>min</th>\n",
              "      <td>18.000000</td>\n",
              "      <td>15.960000</td>\n",
              "      <td>0.000000</td>\n",
              "      <td>1121.873900</td>\n",
              "    </tr>\n",
              "    <tr>\n",
              "      <th>25%</th>\n",
              "      <td>26.750000</td>\n",
              "      <td>26.315000</td>\n",
              "      <td>0.000000</td>\n",
              "      <td>3986.438700</td>\n",
              "    </tr>\n",
              "    <tr>\n",
              "      <th>50%</th>\n",
              "      <td>40.000000</td>\n",
              "      <td>30.352500</td>\n",
              "      <td>1.000000</td>\n",
              "      <td>7345.405300</td>\n",
              "    </tr>\n",
              "    <tr>\n",
              "      <th>75%</th>\n",
              "      <td>52.000000</td>\n",
              "      <td>34.430000</td>\n",
              "      <td>2.000000</td>\n",
              "      <td>11362.887050</td>\n",
              "    </tr>\n",
              "    <tr>\n",
              "      <th>max</th>\n",
              "      <td>64.000000</td>\n",
              "      <td>53.130000</td>\n",
              "      <td>5.000000</td>\n",
              "      <td>36910.608030</td>\n",
              "    </tr>\n",
              "  </tbody>\n",
              "</table>\n",
              "</div>\n",
              "      <button class=\"colab-df-convert\" onclick=\"convertToInteractive('df-ca8917d8-d4f6-4158-b00a-3bd113bc4bd6')\"\n",
              "              title=\"Convert this dataframe to an interactive table.\"\n",
              "              style=\"display:none;\">\n",
              "        \n",
              "  <svg xmlns=\"http://www.w3.org/2000/svg\" height=\"24px\"viewBox=\"0 0 24 24\"\n",
              "       width=\"24px\">\n",
              "    <path d=\"M0 0h24v24H0V0z\" fill=\"none\"/>\n",
              "    <path d=\"M18.56 5.44l.94 2.06.94-2.06 2.06-.94-2.06-.94-.94-2.06-.94 2.06-2.06.94zm-11 1L8.5 8.5l.94-2.06 2.06-.94-2.06-.94L8.5 2.5l-.94 2.06-2.06.94zm10 10l.94 2.06.94-2.06 2.06-.94-2.06-.94-.94-2.06-.94 2.06-2.06.94z\"/><path d=\"M17.41 7.96l-1.37-1.37c-.4-.4-.92-.59-1.43-.59-.52 0-1.04.2-1.43.59L10.3 9.45l-7.72 7.72c-.78.78-.78 2.05 0 2.83L4 21.41c.39.39.9.59 1.41.59.51 0 1.02-.2 1.41-.59l7.78-7.78 2.81-2.81c.8-.78.8-2.07 0-2.86zM5.41 20L4 18.59l7.72-7.72 1.47 1.35L5.41 20z\"/>\n",
              "  </svg>\n",
              "      </button>\n",
              "      \n",
              "  <style>\n",
              "    .colab-df-container {\n",
              "      display:flex;\n",
              "      flex-wrap:wrap;\n",
              "      gap: 12px;\n",
              "    }\n",
              "\n",
              "    .colab-df-convert {\n",
              "      background-color: #E8F0FE;\n",
              "      border: none;\n",
              "      border-radius: 50%;\n",
              "      cursor: pointer;\n",
              "      display: none;\n",
              "      fill: #1967D2;\n",
              "      height: 32px;\n",
              "      padding: 0 0 0 0;\n",
              "      width: 32px;\n",
              "    }\n",
              "\n",
              "    .colab-df-convert:hover {\n",
              "      background-color: #E2EBFA;\n",
              "      box-shadow: 0px 1px 2px rgba(60, 64, 67, 0.3), 0px 1px 3px 1px rgba(60, 64, 67, 0.15);\n",
              "      fill: #174EA6;\n",
              "    }\n",
              "\n",
              "    [theme=dark] .colab-df-convert {\n",
              "      background-color: #3B4455;\n",
              "      fill: #D2E3FC;\n",
              "    }\n",
              "\n",
              "    [theme=dark] .colab-df-convert:hover {\n",
              "      background-color: #434B5C;\n",
              "      box-shadow: 0px 1px 3px 1px rgba(0, 0, 0, 0.15);\n",
              "      filter: drop-shadow(0px 1px 2px rgba(0, 0, 0, 0.3));\n",
              "      fill: #FFFFFF;\n",
              "    }\n",
              "  </style>\n",
              "\n",
              "      <script>\n",
              "        const buttonEl =\n",
              "          document.querySelector('#df-ca8917d8-d4f6-4158-b00a-3bd113bc4bd6 button.colab-df-convert');\n",
              "        buttonEl.style.display =\n",
              "          google.colab.kernel.accessAllowed ? 'block' : 'none';\n",
              "\n",
              "        async function convertToInteractive(key) {\n",
              "          const element = document.querySelector('#df-ca8917d8-d4f6-4158-b00a-3bd113bc4bd6');\n",
              "          const dataTable =\n",
              "            await google.colab.kernel.invokeFunction('convertToInteractive',\n",
              "                                                     [key], {});\n",
              "          if (!dataTable) return;\n",
              "\n",
              "          const docLinkHtml = 'Like what you see? Visit the ' +\n",
              "            '<a target=\"_blank\" href=https://colab.research.google.com/notebooks/data_table.ipynb>data table notebook</a>'\n",
              "            + ' to learn more about interactive tables.';\n",
              "          element.innerHTML = '';\n",
              "          dataTable['output_type'] = 'display_data';\n",
              "          await google.colab.output.renderOutput(dataTable, element);\n",
              "          const docLink = document.createElement('div');\n",
              "          docLink.innerHTML = docLinkHtml;\n",
              "          element.appendChild(docLink);\n",
              "        }\n",
              "      </script>\n",
              "    </div>\n",
              "  </div>\n",
              "  "
            ]
          },
          "metadata": {},
          "execution_count": 9
        }
      ]
    },
    {
      "cell_type": "markdown",
      "source": [
        "**3. Mean & Median Based on BMI**"
      ],
      "metadata": {
        "id": "LbLSrPHGfC7W"
      }
    },
    {
      "cell_type": "markdown",
      "source": [
        "BMI Category:\n",
        "* BMI < 25 = healthy BMI\n",
        "* BMI < 25 = unhealthy BMI (overweight)"
      ],
      "metadata": {
        "id": "gauY9aNbfC7W"
      }
    },
    {
      "cell_type": "markdown",
      "source": [
        "a. Mean & Median of Policyholder with **BMI < 25**"
      ],
      "metadata": {
        "id": "GD2vl_Z0fC7X"
      }
    },
    {
      "cell_type": "code",
      "source": [
        "insurance_data[insurance_data['bmi'] < 25].describe()"
      ],
      "metadata": {
        "execution": {
          "iopub.status.busy": "2022-10-07T20:47:19.994689Z",
          "iopub.execute_input": "2022-10-07T20:47:19.995823Z",
          "iopub.status.idle": "2022-10-07T20:47:20.023693Z",
          "shell.execute_reply.started": "2022-10-07T20:47:19.995774Z",
          "shell.execute_reply": "2022-10-07T20:47:20.022349Z"
        },
        "trusted": true,
        "colab": {
          "base_uri": "https://localhost:8080/",
          "height": 300
        },
        "id": "yI25geIFfC7X",
        "outputId": "6990043c-a540-43f0-f5e5-be6e2c05b19d"
      },
      "execution_count": 10,
      "outputs": [
        {
          "output_type": "execute_result",
          "data": {
            "text/plain": [
              "              age         bmi    children       charges\n",
              "count  245.000000  245.000000  245.000000    245.000000\n",
              "mean    36.375510   22.203898    1.122449  10282.224474\n",
              "std     13.606811    2.103806    1.238598   7520.485850\n",
              "min     18.000000   15.960000    0.000000   1121.873900\n",
              "25%     24.000000   20.800000    0.000000   3861.209650\n",
              "50%     35.000000   22.705000    1.000000   8582.302300\n",
              "75%     47.000000   23.900000    2.000000  14571.890800\n",
              "max     64.000000   24.985000    5.000000  35069.374520"
            ],
            "text/html": [
              "\n",
              "  <div id=\"df-e5074194-02a4-45e6-9d5c-885e4b8dc4fa\">\n",
              "    <div class=\"colab-df-container\">\n",
              "      <div>\n",
              "<style scoped>\n",
              "    .dataframe tbody tr th:only-of-type {\n",
              "        vertical-align: middle;\n",
              "    }\n",
              "\n",
              "    .dataframe tbody tr th {\n",
              "        vertical-align: top;\n",
              "    }\n",
              "\n",
              "    .dataframe thead th {\n",
              "        text-align: right;\n",
              "    }\n",
              "</style>\n",
              "<table border=\"1\" class=\"dataframe\">\n",
              "  <thead>\n",
              "    <tr style=\"text-align: right;\">\n",
              "      <th></th>\n",
              "      <th>age</th>\n",
              "      <th>bmi</th>\n",
              "      <th>children</th>\n",
              "      <th>charges</th>\n",
              "    </tr>\n",
              "  </thead>\n",
              "  <tbody>\n",
              "    <tr>\n",
              "      <th>count</th>\n",
              "      <td>245.000000</td>\n",
              "      <td>245.000000</td>\n",
              "      <td>245.000000</td>\n",
              "      <td>245.000000</td>\n",
              "    </tr>\n",
              "    <tr>\n",
              "      <th>mean</th>\n",
              "      <td>36.375510</td>\n",
              "      <td>22.203898</td>\n",
              "      <td>1.122449</td>\n",
              "      <td>10282.224474</td>\n",
              "    </tr>\n",
              "    <tr>\n",
              "      <th>std</th>\n",
              "      <td>13.606811</td>\n",
              "      <td>2.103806</td>\n",
              "      <td>1.238598</td>\n",
              "      <td>7520.485850</td>\n",
              "    </tr>\n",
              "    <tr>\n",
              "      <th>min</th>\n",
              "      <td>18.000000</td>\n",
              "      <td>15.960000</td>\n",
              "      <td>0.000000</td>\n",
              "      <td>1121.873900</td>\n",
              "    </tr>\n",
              "    <tr>\n",
              "      <th>25%</th>\n",
              "      <td>24.000000</td>\n",
              "      <td>20.800000</td>\n",
              "      <td>0.000000</td>\n",
              "      <td>3861.209650</td>\n",
              "    </tr>\n",
              "    <tr>\n",
              "      <th>50%</th>\n",
              "      <td>35.000000</td>\n",
              "      <td>22.705000</td>\n",
              "      <td>1.000000</td>\n",
              "      <td>8582.302300</td>\n",
              "    </tr>\n",
              "    <tr>\n",
              "      <th>75%</th>\n",
              "      <td>47.000000</td>\n",
              "      <td>23.900000</td>\n",
              "      <td>2.000000</td>\n",
              "      <td>14571.890800</td>\n",
              "    </tr>\n",
              "    <tr>\n",
              "      <th>max</th>\n",
              "      <td>64.000000</td>\n",
              "      <td>24.985000</td>\n",
              "      <td>5.000000</td>\n",
              "      <td>35069.374520</td>\n",
              "    </tr>\n",
              "  </tbody>\n",
              "</table>\n",
              "</div>\n",
              "      <button class=\"colab-df-convert\" onclick=\"convertToInteractive('df-e5074194-02a4-45e6-9d5c-885e4b8dc4fa')\"\n",
              "              title=\"Convert this dataframe to an interactive table.\"\n",
              "              style=\"display:none;\">\n",
              "        \n",
              "  <svg xmlns=\"http://www.w3.org/2000/svg\" height=\"24px\"viewBox=\"0 0 24 24\"\n",
              "       width=\"24px\">\n",
              "    <path d=\"M0 0h24v24H0V0z\" fill=\"none\"/>\n",
              "    <path d=\"M18.56 5.44l.94 2.06.94-2.06 2.06-.94-2.06-.94-.94-2.06-.94 2.06-2.06.94zm-11 1L8.5 8.5l.94-2.06 2.06-.94-2.06-.94L8.5 2.5l-.94 2.06-2.06.94zm10 10l.94 2.06.94-2.06 2.06-.94-2.06-.94-.94-2.06-.94 2.06-2.06.94z\"/><path d=\"M17.41 7.96l-1.37-1.37c-.4-.4-.92-.59-1.43-.59-.52 0-1.04.2-1.43.59L10.3 9.45l-7.72 7.72c-.78.78-.78 2.05 0 2.83L4 21.41c.39.39.9.59 1.41.59.51 0 1.02-.2 1.41-.59l7.78-7.78 2.81-2.81c.8-.78.8-2.07 0-2.86zM5.41 20L4 18.59l7.72-7.72 1.47 1.35L5.41 20z\"/>\n",
              "  </svg>\n",
              "      </button>\n",
              "      \n",
              "  <style>\n",
              "    .colab-df-container {\n",
              "      display:flex;\n",
              "      flex-wrap:wrap;\n",
              "      gap: 12px;\n",
              "    }\n",
              "\n",
              "    .colab-df-convert {\n",
              "      background-color: #E8F0FE;\n",
              "      border: none;\n",
              "      border-radius: 50%;\n",
              "      cursor: pointer;\n",
              "      display: none;\n",
              "      fill: #1967D2;\n",
              "      height: 32px;\n",
              "      padding: 0 0 0 0;\n",
              "      width: 32px;\n",
              "    }\n",
              "\n",
              "    .colab-df-convert:hover {\n",
              "      background-color: #E2EBFA;\n",
              "      box-shadow: 0px 1px 2px rgba(60, 64, 67, 0.3), 0px 1px 3px 1px rgba(60, 64, 67, 0.15);\n",
              "      fill: #174EA6;\n",
              "    }\n",
              "\n",
              "    [theme=dark] .colab-df-convert {\n",
              "      background-color: #3B4455;\n",
              "      fill: #D2E3FC;\n",
              "    }\n",
              "\n",
              "    [theme=dark] .colab-df-convert:hover {\n",
              "      background-color: #434B5C;\n",
              "      box-shadow: 0px 1px 3px 1px rgba(0, 0, 0, 0.15);\n",
              "      filter: drop-shadow(0px 1px 2px rgba(0, 0, 0, 0.3));\n",
              "      fill: #FFFFFF;\n",
              "    }\n",
              "  </style>\n",
              "\n",
              "      <script>\n",
              "        const buttonEl =\n",
              "          document.querySelector('#df-e5074194-02a4-45e6-9d5c-885e4b8dc4fa button.colab-df-convert');\n",
              "        buttonEl.style.display =\n",
              "          google.colab.kernel.accessAllowed ? 'block' : 'none';\n",
              "\n",
              "        async function convertToInteractive(key) {\n",
              "          const element = document.querySelector('#df-e5074194-02a4-45e6-9d5c-885e4b8dc4fa');\n",
              "          const dataTable =\n",
              "            await google.colab.kernel.invokeFunction('convertToInteractive',\n",
              "                                                     [key], {});\n",
              "          if (!dataTable) return;\n",
              "\n",
              "          const docLinkHtml = 'Like what you see? Visit the ' +\n",
              "            '<a target=\"_blank\" href=https://colab.research.google.com/notebooks/data_table.ipynb>data table notebook</a>'\n",
              "            + ' to learn more about interactive tables.';\n",
              "          element.innerHTML = '';\n",
              "          dataTable['output_type'] = 'display_data';\n",
              "          await google.colab.output.renderOutput(dataTable, element);\n",
              "          const docLink = document.createElement('div');\n",
              "          docLink.innerHTML = docLinkHtml;\n",
              "          element.appendChild(docLink);\n",
              "        }\n",
              "      </script>\n",
              "    </div>\n",
              "  </div>\n",
              "  "
            ]
          },
          "metadata": {},
          "execution_count": 10
        }
      ]
    },
    {
      "cell_type": "markdown",
      "source": [
        "b. Mean & Median of Policyholder with **BMI > 25**"
      ],
      "metadata": {
        "id": "3N04Q4U4fC7X"
      }
    },
    {
      "cell_type": "code",
      "source": [
        "insurance_data[insurance_data['bmi'] > 25].describe()"
      ],
      "metadata": {
        "execution": {
          "iopub.status.busy": "2022-10-07T20:47:20.025798Z",
          "iopub.execute_input": "2022-10-07T20:47:20.026286Z",
          "iopub.status.idle": "2022-10-07T20:47:20.055545Z",
          "shell.execute_reply.started": "2022-10-07T20:47:20.026243Z",
          "shell.execute_reply": "2022-10-07T20:47:20.054361Z"
        },
        "trusted": true,
        "colab": {
          "base_uri": "https://localhost:8080/",
          "height": 300
        },
        "id": "69ll2ldjfC7X",
        "outputId": "2c5186cb-a224-4dfd-d0d7-bdec47f2313d"
      },
      "execution_count": 11,
      "outputs": [
        {
          "output_type": "execute_result",
          "data": {
            "text/plain": [
              "               age          bmi     children       charges\n",
              "count  1091.000000  1091.000000  1091.000000   1091.000000\n",
              "mean     39.817599    32.573483     1.089826  13946.476035\n",
              "std      14.071792     4.982788     1.199081  12834.725537\n",
              "min      18.000000    25.080000     0.000000   1131.506600\n",
              "25%      27.000000    28.600000     0.000000   4889.518150\n",
              "50%      40.000000    31.900000     1.000000   9563.029000\n",
              "75%      52.000000    35.815000     2.000000  17654.442975\n",
              "max      64.000000    53.130000     5.000000  63770.428010"
            ],
            "text/html": [
              "\n",
              "  <div id=\"df-0356f38a-7336-40c4-bde3-24a4b9415efc\">\n",
              "    <div class=\"colab-df-container\">\n",
              "      <div>\n",
              "<style scoped>\n",
              "    .dataframe tbody tr th:only-of-type {\n",
              "        vertical-align: middle;\n",
              "    }\n",
              "\n",
              "    .dataframe tbody tr th {\n",
              "        vertical-align: top;\n",
              "    }\n",
              "\n",
              "    .dataframe thead th {\n",
              "        text-align: right;\n",
              "    }\n",
              "</style>\n",
              "<table border=\"1\" class=\"dataframe\">\n",
              "  <thead>\n",
              "    <tr style=\"text-align: right;\">\n",
              "      <th></th>\n",
              "      <th>age</th>\n",
              "      <th>bmi</th>\n",
              "      <th>children</th>\n",
              "      <th>charges</th>\n",
              "    </tr>\n",
              "  </thead>\n",
              "  <tbody>\n",
              "    <tr>\n",
              "      <th>count</th>\n",
              "      <td>1091.000000</td>\n",
              "      <td>1091.000000</td>\n",
              "      <td>1091.000000</td>\n",
              "      <td>1091.000000</td>\n",
              "    </tr>\n",
              "    <tr>\n",
              "      <th>mean</th>\n",
              "      <td>39.817599</td>\n",
              "      <td>32.573483</td>\n",
              "      <td>1.089826</td>\n",
              "      <td>13946.476035</td>\n",
              "    </tr>\n",
              "    <tr>\n",
              "      <th>std</th>\n",
              "      <td>14.071792</td>\n",
              "      <td>4.982788</td>\n",
              "      <td>1.199081</td>\n",
              "      <td>12834.725537</td>\n",
              "    </tr>\n",
              "    <tr>\n",
              "      <th>min</th>\n",
              "      <td>18.000000</td>\n",
              "      <td>25.080000</td>\n",
              "      <td>0.000000</td>\n",
              "      <td>1131.506600</td>\n",
              "    </tr>\n",
              "    <tr>\n",
              "      <th>25%</th>\n",
              "      <td>27.000000</td>\n",
              "      <td>28.600000</td>\n",
              "      <td>0.000000</td>\n",
              "      <td>4889.518150</td>\n",
              "    </tr>\n",
              "    <tr>\n",
              "      <th>50%</th>\n",
              "      <td>40.000000</td>\n",
              "      <td>31.900000</td>\n",
              "      <td>1.000000</td>\n",
              "      <td>9563.029000</td>\n",
              "    </tr>\n",
              "    <tr>\n",
              "      <th>75%</th>\n",
              "      <td>52.000000</td>\n",
              "      <td>35.815000</td>\n",
              "      <td>2.000000</td>\n",
              "      <td>17654.442975</td>\n",
              "    </tr>\n",
              "    <tr>\n",
              "      <th>max</th>\n",
              "      <td>64.000000</td>\n",
              "      <td>53.130000</td>\n",
              "      <td>5.000000</td>\n",
              "      <td>63770.428010</td>\n",
              "    </tr>\n",
              "  </tbody>\n",
              "</table>\n",
              "</div>\n",
              "      <button class=\"colab-df-convert\" onclick=\"convertToInteractive('df-0356f38a-7336-40c4-bde3-24a4b9415efc')\"\n",
              "              title=\"Convert this dataframe to an interactive table.\"\n",
              "              style=\"display:none;\">\n",
              "        \n",
              "  <svg xmlns=\"http://www.w3.org/2000/svg\" height=\"24px\"viewBox=\"0 0 24 24\"\n",
              "       width=\"24px\">\n",
              "    <path d=\"M0 0h24v24H0V0z\" fill=\"none\"/>\n",
              "    <path d=\"M18.56 5.44l.94 2.06.94-2.06 2.06-.94-2.06-.94-.94-2.06-.94 2.06-2.06.94zm-11 1L8.5 8.5l.94-2.06 2.06-.94-2.06-.94L8.5 2.5l-.94 2.06-2.06.94zm10 10l.94 2.06.94-2.06 2.06-.94-2.06-.94-.94-2.06-.94 2.06-2.06.94z\"/><path d=\"M17.41 7.96l-1.37-1.37c-.4-.4-.92-.59-1.43-.59-.52 0-1.04.2-1.43.59L10.3 9.45l-7.72 7.72c-.78.78-.78 2.05 0 2.83L4 21.41c.39.39.9.59 1.41.59.51 0 1.02-.2 1.41-.59l7.78-7.78 2.81-2.81c.8-.78.8-2.07 0-2.86zM5.41 20L4 18.59l7.72-7.72 1.47 1.35L5.41 20z\"/>\n",
              "  </svg>\n",
              "      </button>\n",
              "      \n",
              "  <style>\n",
              "    .colab-df-container {\n",
              "      display:flex;\n",
              "      flex-wrap:wrap;\n",
              "      gap: 12px;\n",
              "    }\n",
              "\n",
              "    .colab-df-convert {\n",
              "      background-color: #E8F0FE;\n",
              "      border: none;\n",
              "      border-radius: 50%;\n",
              "      cursor: pointer;\n",
              "      display: none;\n",
              "      fill: #1967D2;\n",
              "      height: 32px;\n",
              "      padding: 0 0 0 0;\n",
              "      width: 32px;\n",
              "    }\n",
              "\n",
              "    .colab-df-convert:hover {\n",
              "      background-color: #E2EBFA;\n",
              "      box-shadow: 0px 1px 2px rgba(60, 64, 67, 0.3), 0px 1px 3px 1px rgba(60, 64, 67, 0.15);\n",
              "      fill: #174EA6;\n",
              "    }\n",
              "\n",
              "    [theme=dark] .colab-df-convert {\n",
              "      background-color: #3B4455;\n",
              "      fill: #D2E3FC;\n",
              "    }\n",
              "\n",
              "    [theme=dark] .colab-df-convert:hover {\n",
              "      background-color: #434B5C;\n",
              "      box-shadow: 0px 1px 3px 1px rgba(0, 0, 0, 0.15);\n",
              "      filter: drop-shadow(0px 1px 2px rgba(0, 0, 0, 0.3));\n",
              "      fill: #FFFFFF;\n",
              "    }\n",
              "  </style>\n",
              "\n",
              "      <script>\n",
              "        const buttonEl =\n",
              "          document.querySelector('#df-0356f38a-7336-40c4-bde3-24a4b9415efc button.colab-df-convert');\n",
              "        buttonEl.style.display =\n",
              "          google.colab.kernel.accessAllowed ? 'block' : 'none';\n",
              "\n",
              "        async function convertToInteractive(key) {\n",
              "          const element = document.querySelector('#df-0356f38a-7336-40c4-bde3-24a4b9415efc');\n",
              "          const dataTable =\n",
              "            await google.colab.kernel.invokeFunction('convertToInteractive',\n",
              "                                                     [key], {});\n",
              "          if (!dataTable) return;\n",
              "\n",
              "          const docLinkHtml = 'Like what you see? Visit the ' +\n",
              "            '<a target=\"_blank\" href=https://colab.research.google.com/notebooks/data_table.ipynb>data table notebook</a>'\n",
              "            + ' to learn more about interactive tables.';\n",
              "          element.innerHTML = '';\n",
              "          dataTable['output_type'] = 'display_data';\n",
              "          await google.colab.output.renderOutput(dataTable, element);\n",
              "          const docLink = document.createElement('div');\n",
              "          docLink.innerHTML = docLinkHtml;\n",
              "          element.appendChild(docLink);\n",
              "        }\n",
              "      </script>\n",
              "    </div>\n",
              "  </div>\n",
              "  "
            ]
          },
          "metadata": {},
          "execution_count": 11
        }
      ]
    },
    {
      "cell_type": "markdown",
      "source": [
        "**3. Mean & Median Based on Gender**"
      ],
      "metadata": {
        "id": "RYyIp1Q6fC7Y"
      }
    },
    {
      "cell_type": "markdown",
      "source": [
        "a. Mean & Median of **Male** Policyholder"
      ],
      "metadata": {
        "id": "TAVP8DhyfC7Y"
      }
    },
    {
      "cell_type": "code",
      "source": [
        "insurance_data[insurance_data['sex'] == 'male'].describe()"
      ],
      "metadata": {
        "execution": {
          "iopub.status.busy": "2022-10-07T20:47:20.060775Z",
          "iopub.execute_input": "2022-10-07T20:47:20.061942Z",
          "iopub.status.idle": "2022-10-07T20:47:20.092863Z",
          "shell.execute_reply.started": "2022-10-07T20:47:20.061895Z",
          "shell.execute_reply": "2022-10-07T20:47:20.091396Z"
        },
        "trusted": true,
        "colab": {
          "base_uri": "https://localhost:8080/",
          "height": 300
        },
        "id": "wtCglQxzfC7Y",
        "outputId": "286961fd-f686-4586-c099-f1a3d847bb70"
      },
      "execution_count": 12,
      "outputs": [
        {
          "output_type": "execute_result",
          "data": {
            "text/plain": [
              "              age         bmi    children       charges\n",
              "count  676.000000  676.000000  676.000000    676.000000\n",
              "mean    38.917160   30.943129    1.115385  13956.751178\n",
              "std     14.050141    6.140435    1.218986  12971.025915\n",
              "min     18.000000   15.960000    0.000000   1121.873900\n",
              "25%     26.000000   26.410000    0.000000   4619.134000\n",
              "50%     39.000000   30.687500    1.000000   9369.615750\n",
              "75%     51.000000   34.992500    2.000000  18989.590250\n",
              "max     64.000000   53.130000    5.000000  62592.873090"
            ],
            "text/html": [
              "\n",
              "  <div id=\"df-186cb08f-d5ec-4cc9-8d71-dd4928f0f0de\">\n",
              "    <div class=\"colab-df-container\">\n",
              "      <div>\n",
              "<style scoped>\n",
              "    .dataframe tbody tr th:only-of-type {\n",
              "        vertical-align: middle;\n",
              "    }\n",
              "\n",
              "    .dataframe tbody tr th {\n",
              "        vertical-align: top;\n",
              "    }\n",
              "\n",
              "    .dataframe thead th {\n",
              "        text-align: right;\n",
              "    }\n",
              "</style>\n",
              "<table border=\"1\" class=\"dataframe\">\n",
              "  <thead>\n",
              "    <tr style=\"text-align: right;\">\n",
              "      <th></th>\n",
              "      <th>age</th>\n",
              "      <th>bmi</th>\n",
              "      <th>children</th>\n",
              "      <th>charges</th>\n",
              "    </tr>\n",
              "  </thead>\n",
              "  <tbody>\n",
              "    <tr>\n",
              "      <th>count</th>\n",
              "      <td>676.000000</td>\n",
              "      <td>676.000000</td>\n",
              "      <td>676.000000</td>\n",
              "      <td>676.000000</td>\n",
              "    </tr>\n",
              "    <tr>\n",
              "      <th>mean</th>\n",
              "      <td>38.917160</td>\n",
              "      <td>30.943129</td>\n",
              "      <td>1.115385</td>\n",
              "      <td>13956.751178</td>\n",
              "    </tr>\n",
              "    <tr>\n",
              "      <th>std</th>\n",
              "      <td>14.050141</td>\n",
              "      <td>6.140435</td>\n",
              "      <td>1.218986</td>\n",
              "      <td>12971.025915</td>\n",
              "    </tr>\n",
              "    <tr>\n",
              "      <th>min</th>\n",
              "      <td>18.000000</td>\n",
              "      <td>15.960000</td>\n",
              "      <td>0.000000</td>\n",
              "      <td>1121.873900</td>\n",
              "    </tr>\n",
              "    <tr>\n",
              "      <th>25%</th>\n",
              "      <td>26.000000</td>\n",
              "      <td>26.410000</td>\n",
              "      <td>0.000000</td>\n",
              "      <td>4619.134000</td>\n",
              "    </tr>\n",
              "    <tr>\n",
              "      <th>50%</th>\n",
              "      <td>39.000000</td>\n",
              "      <td>30.687500</td>\n",
              "      <td>1.000000</td>\n",
              "      <td>9369.615750</td>\n",
              "    </tr>\n",
              "    <tr>\n",
              "      <th>75%</th>\n",
              "      <td>51.000000</td>\n",
              "      <td>34.992500</td>\n",
              "      <td>2.000000</td>\n",
              "      <td>18989.590250</td>\n",
              "    </tr>\n",
              "    <tr>\n",
              "      <th>max</th>\n",
              "      <td>64.000000</td>\n",
              "      <td>53.130000</td>\n",
              "      <td>5.000000</td>\n",
              "      <td>62592.873090</td>\n",
              "    </tr>\n",
              "  </tbody>\n",
              "</table>\n",
              "</div>\n",
              "      <button class=\"colab-df-convert\" onclick=\"convertToInteractive('df-186cb08f-d5ec-4cc9-8d71-dd4928f0f0de')\"\n",
              "              title=\"Convert this dataframe to an interactive table.\"\n",
              "              style=\"display:none;\">\n",
              "        \n",
              "  <svg xmlns=\"http://www.w3.org/2000/svg\" height=\"24px\"viewBox=\"0 0 24 24\"\n",
              "       width=\"24px\">\n",
              "    <path d=\"M0 0h24v24H0V0z\" fill=\"none\"/>\n",
              "    <path d=\"M18.56 5.44l.94 2.06.94-2.06 2.06-.94-2.06-.94-.94-2.06-.94 2.06-2.06.94zm-11 1L8.5 8.5l.94-2.06 2.06-.94-2.06-.94L8.5 2.5l-.94 2.06-2.06.94zm10 10l.94 2.06.94-2.06 2.06-.94-2.06-.94-.94-2.06-.94 2.06-2.06.94z\"/><path d=\"M17.41 7.96l-1.37-1.37c-.4-.4-.92-.59-1.43-.59-.52 0-1.04.2-1.43.59L10.3 9.45l-7.72 7.72c-.78.78-.78 2.05 0 2.83L4 21.41c.39.39.9.59 1.41.59.51 0 1.02-.2 1.41-.59l7.78-7.78 2.81-2.81c.8-.78.8-2.07 0-2.86zM5.41 20L4 18.59l7.72-7.72 1.47 1.35L5.41 20z\"/>\n",
              "  </svg>\n",
              "      </button>\n",
              "      \n",
              "  <style>\n",
              "    .colab-df-container {\n",
              "      display:flex;\n",
              "      flex-wrap:wrap;\n",
              "      gap: 12px;\n",
              "    }\n",
              "\n",
              "    .colab-df-convert {\n",
              "      background-color: #E8F0FE;\n",
              "      border: none;\n",
              "      border-radius: 50%;\n",
              "      cursor: pointer;\n",
              "      display: none;\n",
              "      fill: #1967D2;\n",
              "      height: 32px;\n",
              "      padding: 0 0 0 0;\n",
              "      width: 32px;\n",
              "    }\n",
              "\n",
              "    .colab-df-convert:hover {\n",
              "      background-color: #E2EBFA;\n",
              "      box-shadow: 0px 1px 2px rgba(60, 64, 67, 0.3), 0px 1px 3px 1px rgba(60, 64, 67, 0.15);\n",
              "      fill: #174EA6;\n",
              "    }\n",
              "\n",
              "    [theme=dark] .colab-df-convert {\n",
              "      background-color: #3B4455;\n",
              "      fill: #D2E3FC;\n",
              "    }\n",
              "\n",
              "    [theme=dark] .colab-df-convert:hover {\n",
              "      background-color: #434B5C;\n",
              "      box-shadow: 0px 1px 3px 1px rgba(0, 0, 0, 0.15);\n",
              "      filter: drop-shadow(0px 1px 2px rgba(0, 0, 0, 0.3));\n",
              "      fill: #FFFFFF;\n",
              "    }\n",
              "  </style>\n",
              "\n",
              "      <script>\n",
              "        const buttonEl =\n",
              "          document.querySelector('#df-186cb08f-d5ec-4cc9-8d71-dd4928f0f0de button.colab-df-convert');\n",
              "        buttonEl.style.display =\n",
              "          google.colab.kernel.accessAllowed ? 'block' : 'none';\n",
              "\n",
              "        async function convertToInteractive(key) {\n",
              "          const element = document.querySelector('#df-186cb08f-d5ec-4cc9-8d71-dd4928f0f0de');\n",
              "          const dataTable =\n",
              "            await google.colab.kernel.invokeFunction('convertToInteractive',\n",
              "                                                     [key], {});\n",
              "          if (!dataTable) return;\n",
              "\n",
              "          const docLinkHtml = 'Like what you see? Visit the ' +\n",
              "            '<a target=\"_blank\" href=https://colab.research.google.com/notebooks/data_table.ipynb>data table notebook</a>'\n",
              "            + ' to learn more about interactive tables.';\n",
              "          element.innerHTML = '';\n",
              "          dataTable['output_type'] = 'display_data';\n",
              "          await google.colab.output.renderOutput(dataTable, element);\n",
              "          const docLink = document.createElement('div');\n",
              "          docLink.innerHTML = docLinkHtml;\n",
              "          element.appendChild(docLink);\n",
              "        }\n",
              "      </script>\n",
              "    </div>\n",
              "  </div>\n",
              "  "
            ]
          },
          "metadata": {},
          "execution_count": 12
        }
      ]
    },
    {
      "cell_type": "markdown",
      "source": [
        "b. Mean & Median of **Female** Policyholder"
      ],
      "metadata": {
        "id": "spiztw_WfC7Z"
      }
    },
    {
      "cell_type": "code",
      "source": [
        "insurance_data[insurance_data['sex'] == 'female'].describe()"
      ],
      "metadata": {
        "execution": {
          "iopub.status.busy": "2022-10-07T20:47:20.095034Z",
          "iopub.execute_input": "2022-10-07T20:47:20.095585Z",
          "iopub.status.idle": "2022-10-07T20:47:20.126702Z",
          "shell.execute_reply.started": "2022-10-07T20:47:20.095535Z",
          "shell.execute_reply": "2022-10-07T20:47:20.125517Z"
        },
        "trusted": true,
        "colab": {
          "base_uri": "https://localhost:8080/",
          "height": 300
        },
        "id": "45dDdLrAfC7Z",
        "outputId": "cd5679d1-71c0-4fa7-bc97-8c609bb1072a"
      },
      "execution_count": 13,
      "outputs": [
        {
          "output_type": "execute_result",
          "data": {
            "text/plain": [
              "              age         bmi    children       charges\n",
              "count  662.000000  662.000000  662.000000    662.000000\n",
              "mean    39.503021   30.377749    1.074018  12569.578844\n",
              "std     14.054223    6.046023    1.192115  11128.703801\n",
              "min     18.000000   16.815000    0.000000   1607.510100\n",
              "25%     27.000000   26.125000    0.000000   4885.158700\n",
              "50%     40.000000   30.107500    1.000000   9412.962500\n",
              "75%     51.750000   34.313750    2.000000  14454.691825\n",
              "max     64.000000   48.070000    5.000000  63770.428010"
            ],
            "text/html": [
              "\n",
              "  <div id=\"df-2680e34f-bb8b-4a3d-a835-c18d3ab86128\">\n",
              "    <div class=\"colab-df-container\">\n",
              "      <div>\n",
              "<style scoped>\n",
              "    .dataframe tbody tr th:only-of-type {\n",
              "        vertical-align: middle;\n",
              "    }\n",
              "\n",
              "    .dataframe tbody tr th {\n",
              "        vertical-align: top;\n",
              "    }\n",
              "\n",
              "    .dataframe thead th {\n",
              "        text-align: right;\n",
              "    }\n",
              "</style>\n",
              "<table border=\"1\" class=\"dataframe\">\n",
              "  <thead>\n",
              "    <tr style=\"text-align: right;\">\n",
              "      <th></th>\n",
              "      <th>age</th>\n",
              "      <th>bmi</th>\n",
              "      <th>children</th>\n",
              "      <th>charges</th>\n",
              "    </tr>\n",
              "  </thead>\n",
              "  <tbody>\n",
              "    <tr>\n",
              "      <th>count</th>\n",
              "      <td>662.000000</td>\n",
              "      <td>662.000000</td>\n",
              "      <td>662.000000</td>\n",
              "      <td>662.000000</td>\n",
              "    </tr>\n",
              "    <tr>\n",
              "      <th>mean</th>\n",
              "      <td>39.503021</td>\n",
              "      <td>30.377749</td>\n",
              "      <td>1.074018</td>\n",
              "      <td>12569.578844</td>\n",
              "    </tr>\n",
              "    <tr>\n",
              "      <th>std</th>\n",
              "      <td>14.054223</td>\n",
              "      <td>6.046023</td>\n",
              "      <td>1.192115</td>\n",
              "      <td>11128.703801</td>\n",
              "    </tr>\n",
              "    <tr>\n",
              "      <th>min</th>\n",
              "      <td>18.000000</td>\n",
              "      <td>16.815000</td>\n",
              "      <td>0.000000</td>\n",
              "      <td>1607.510100</td>\n",
              "    </tr>\n",
              "    <tr>\n",
              "      <th>25%</th>\n",
              "      <td>27.000000</td>\n",
              "      <td>26.125000</td>\n",
              "      <td>0.000000</td>\n",
              "      <td>4885.158700</td>\n",
              "    </tr>\n",
              "    <tr>\n",
              "      <th>50%</th>\n",
              "      <td>40.000000</td>\n",
              "      <td>30.107500</td>\n",
              "      <td>1.000000</td>\n",
              "      <td>9412.962500</td>\n",
              "    </tr>\n",
              "    <tr>\n",
              "      <th>75%</th>\n",
              "      <td>51.750000</td>\n",
              "      <td>34.313750</td>\n",
              "      <td>2.000000</td>\n",
              "      <td>14454.691825</td>\n",
              "    </tr>\n",
              "    <tr>\n",
              "      <th>max</th>\n",
              "      <td>64.000000</td>\n",
              "      <td>48.070000</td>\n",
              "      <td>5.000000</td>\n",
              "      <td>63770.428010</td>\n",
              "    </tr>\n",
              "  </tbody>\n",
              "</table>\n",
              "</div>\n",
              "      <button class=\"colab-df-convert\" onclick=\"convertToInteractive('df-2680e34f-bb8b-4a3d-a835-c18d3ab86128')\"\n",
              "              title=\"Convert this dataframe to an interactive table.\"\n",
              "              style=\"display:none;\">\n",
              "        \n",
              "  <svg xmlns=\"http://www.w3.org/2000/svg\" height=\"24px\"viewBox=\"0 0 24 24\"\n",
              "       width=\"24px\">\n",
              "    <path d=\"M0 0h24v24H0V0z\" fill=\"none\"/>\n",
              "    <path d=\"M18.56 5.44l.94 2.06.94-2.06 2.06-.94-2.06-.94-.94-2.06-.94 2.06-2.06.94zm-11 1L8.5 8.5l.94-2.06 2.06-.94-2.06-.94L8.5 2.5l-.94 2.06-2.06.94zm10 10l.94 2.06.94-2.06 2.06-.94-2.06-.94-.94-2.06-.94 2.06-2.06.94z\"/><path d=\"M17.41 7.96l-1.37-1.37c-.4-.4-.92-.59-1.43-.59-.52 0-1.04.2-1.43.59L10.3 9.45l-7.72 7.72c-.78.78-.78 2.05 0 2.83L4 21.41c.39.39.9.59 1.41.59.51 0 1.02-.2 1.41-.59l7.78-7.78 2.81-2.81c.8-.78.8-2.07 0-2.86zM5.41 20L4 18.59l7.72-7.72 1.47 1.35L5.41 20z\"/>\n",
              "  </svg>\n",
              "      </button>\n",
              "      \n",
              "  <style>\n",
              "    .colab-df-container {\n",
              "      display:flex;\n",
              "      flex-wrap:wrap;\n",
              "      gap: 12px;\n",
              "    }\n",
              "\n",
              "    .colab-df-convert {\n",
              "      background-color: #E8F0FE;\n",
              "      border: none;\n",
              "      border-radius: 50%;\n",
              "      cursor: pointer;\n",
              "      display: none;\n",
              "      fill: #1967D2;\n",
              "      height: 32px;\n",
              "      padding: 0 0 0 0;\n",
              "      width: 32px;\n",
              "    }\n",
              "\n",
              "    .colab-df-convert:hover {\n",
              "      background-color: #E2EBFA;\n",
              "      box-shadow: 0px 1px 2px rgba(60, 64, 67, 0.3), 0px 1px 3px 1px rgba(60, 64, 67, 0.15);\n",
              "      fill: #174EA6;\n",
              "    }\n",
              "\n",
              "    [theme=dark] .colab-df-convert {\n",
              "      background-color: #3B4455;\n",
              "      fill: #D2E3FC;\n",
              "    }\n",
              "\n",
              "    [theme=dark] .colab-df-convert:hover {\n",
              "      background-color: #434B5C;\n",
              "      box-shadow: 0px 1px 3px 1px rgba(0, 0, 0, 0.15);\n",
              "      filter: drop-shadow(0px 1px 2px rgba(0, 0, 0, 0.3));\n",
              "      fill: #FFFFFF;\n",
              "    }\n",
              "  </style>\n",
              "\n",
              "      <script>\n",
              "        const buttonEl =\n",
              "          document.querySelector('#df-2680e34f-bb8b-4a3d-a835-c18d3ab86128 button.colab-df-convert');\n",
              "        buttonEl.style.display =\n",
              "          google.colab.kernel.accessAllowed ? 'block' : 'none';\n",
              "\n",
              "        async function convertToInteractive(key) {\n",
              "          const element = document.querySelector('#df-2680e34f-bb8b-4a3d-a835-c18d3ab86128');\n",
              "          const dataTable =\n",
              "            await google.colab.kernel.invokeFunction('convertToInteractive',\n",
              "                                                     [key], {});\n",
              "          if (!dataTable) return;\n",
              "\n",
              "          const docLinkHtml = 'Like what you see? Visit the ' +\n",
              "            '<a target=\"_blank\" href=https://colab.research.google.com/notebooks/data_table.ipynb>data table notebook</a>'\n",
              "            + ' to learn more about interactive tables.';\n",
              "          element.innerHTML = '';\n",
              "          dataTable['output_type'] = 'display_data';\n",
              "          await google.colab.output.renderOutput(dataTable, element);\n",
              "          const docLink = document.createElement('div');\n",
              "          docLink.innerHTML = docLinkHtml;\n",
              "          element.appendChild(docLink);\n",
              "        }\n",
              "      </script>\n",
              "    </div>\n",
              "  </div>\n",
              "  "
            ]
          },
          "metadata": {},
          "execution_count": 13
        }
      ]
    },
    {
      "cell_type": "markdown",
      "source": [
        "**4. Mean & Median of Smoker Based on BMI**"
      ],
      "metadata": {
        "id": "i3NFQ4GTfC7Z"
      }
    },
    {
      "cell_type": "markdown",
      "source": [
        "a. Mean & Median of **Smoker** Policyholder with **BMI < 25**"
      ],
      "metadata": {
        "id": "Lt9T6gIWfC7Z"
      }
    },
    {
      "cell_type": "code",
      "source": [
        "insurance_data[(insurance_data['smoker'] == 'yes') & \n",
        "               (insurance_data['bmi'] < 25)].describe()"
      ],
      "metadata": {
        "execution": {
          "iopub.status.busy": "2022-10-07T20:47:20.128335Z",
          "iopub.execute_input": "2022-10-07T20:47:20.128886Z",
          "iopub.status.idle": "2022-10-07T20:47:20.158486Z",
          "shell.execute_reply.started": "2022-10-07T20:47:20.128842Z",
          "shell.execute_reply": "2022-10-07T20:47:20.157151Z"
        },
        "trusted": true,
        "colab": {
          "base_uri": "https://localhost:8080/",
          "height": 300
        },
        "id": "YTzREWRZfC7Z",
        "outputId": "4227a905-2fc7-4996-8671-e08fd2c52c95"
      },
      "execution_count": 14,
      "outputs": [
        {
          "output_type": "execute_result",
          "data": {
            "text/plain": [
              "             age        bmi   children       charges\n",
              "count  55.000000  55.000000  55.000000     55.000000\n",
              "mean   37.309091  22.277182   1.236364  19839.278309\n",
              "std    12.480908   2.182447   1.261446   4583.245438\n",
              "min    18.000000  17.195000   0.000000  12829.455100\n",
              "25%    27.500000  20.710000   0.000000  16499.137025\n",
              "50%    38.000000  22.895000   1.000000  19361.998800\n",
              "75%    45.500000  24.130000   2.000000  22049.467450\n",
              "max    64.000000  24.890000   5.000000  35069.374520"
            ],
            "text/html": [
              "\n",
              "  <div id=\"df-5b33aaf0-b4c1-4577-bed1-71f765ae3974\">\n",
              "    <div class=\"colab-df-container\">\n",
              "      <div>\n",
              "<style scoped>\n",
              "    .dataframe tbody tr th:only-of-type {\n",
              "        vertical-align: middle;\n",
              "    }\n",
              "\n",
              "    .dataframe tbody tr th {\n",
              "        vertical-align: top;\n",
              "    }\n",
              "\n",
              "    .dataframe thead th {\n",
              "        text-align: right;\n",
              "    }\n",
              "</style>\n",
              "<table border=\"1\" class=\"dataframe\">\n",
              "  <thead>\n",
              "    <tr style=\"text-align: right;\">\n",
              "      <th></th>\n",
              "      <th>age</th>\n",
              "      <th>bmi</th>\n",
              "      <th>children</th>\n",
              "      <th>charges</th>\n",
              "    </tr>\n",
              "  </thead>\n",
              "  <tbody>\n",
              "    <tr>\n",
              "      <th>count</th>\n",
              "      <td>55.000000</td>\n",
              "      <td>55.000000</td>\n",
              "      <td>55.000000</td>\n",
              "      <td>55.000000</td>\n",
              "    </tr>\n",
              "    <tr>\n",
              "      <th>mean</th>\n",
              "      <td>37.309091</td>\n",
              "      <td>22.277182</td>\n",
              "      <td>1.236364</td>\n",
              "      <td>19839.278309</td>\n",
              "    </tr>\n",
              "    <tr>\n",
              "      <th>std</th>\n",
              "      <td>12.480908</td>\n",
              "      <td>2.182447</td>\n",
              "      <td>1.261446</td>\n",
              "      <td>4583.245438</td>\n",
              "    </tr>\n",
              "    <tr>\n",
              "      <th>min</th>\n",
              "      <td>18.000000</td>\n",
              "      <td>17.195000</td>\n",
              "      <td>0.000000</td>\n",
              "      <td>12829.455100</td>\n",
              "    </tr>\n",
              "    <tr>\n",
              "      <th>25%</th>\n",
              "      <td>27.500000</td>\n",
              "      <td>20.710000</td>\n",
              "      <td>0.000000</td>\n",
              "      <td>16499.137025</td>\n",
              "    </tr>\n",
              "    <tr>\n",
              "      <th>50%</th>\n",
              "      <td>38.000000</td>\n",
              "      <td>22.895000</td>\n",
              "      <td>1.000000</td>\n",
              "      <td>19361.998800</td>\n",
              "    </tr>\n",
              "    <tr>\n",
              "      <th>75%</th>\n",
              "      <td>45.500000</td>\n",
              "      <td>24.130000</td>\n",
              "      <td>2.000000</td>\n",
              "      <td>22049.467450</td>\n",
              "    </tr>\n",
              "    <tr>\n",
              "      <th>max</th>\n",
              "      <td>64.000000</td>\n",
              "      <td>24.890000</td>\n",
              "      <td>5.000000</td>\n",
              "      <td>35069.374520</td>\n",
              "    </tr>\n",
              "  </tbody>\n",
              "</table>\n",
              "</div>\n",
              "      <button class=\"colab-df-convert\" onclick=\"convertToInteractive('df-5b33aaf0-b4c1-4577-bed1-71f765ae3974')\"\n",
              "              title=\"Convert this dataframe to an interactive table.\"\n",
              "              style=\"display:none;\">\n",
              "        \n",
              "  <svg xmlns=\"http://www.w3.org/2000/svg\" height=\"24px\"viewBox=\"0 0 24 24\"\n",
              "       width=\"24px\">\n",
              "    <path d=\"M0 0h24v24H0V0z\" fill=\"none\"/>\n",
              "    <path d=\"M18.56 5.44l.94 2.06.94-2.06 2.06-.94-2.06-.94-.94-2.06-.94 2.06-2.06.94zm-11 1L8.5 8.5l.94-2.06 2.06-.94-2.06-.94L8.5 2.5l-.94 2.06-2.06.94zm10 10l.94 2.06.94-2.06 2.06-.94-2.06-.94-.94-2.06-.94 2.06-2.06.94z\"/><path d=\"M17.41 7.96l-1.37-1.37c-.4-.4-.92-.59-1.43-.59-.52 0-1.04.2-1.43.59L10.3 9.45l-7.72 7.72c-.78.78-.78 2.05 0 2.83L4 21.41c.39.39.9.59 1.41.59.51 0 1.02-.2 1.41-.59l7.78-7.78 2.81-2.81c.8-.78.8-2.07 0-2.86zM5.41 20L4 18.59l7.72-7.72 1.47 1.35L5.41 20z\"/>\n",
              "  </svg>\n",
              "      </button>\n",
              "      \n",
              "  <style>\n",
              "    .colab-df-container {\n",
              "      display:flex;\n",
              "      flex-wrap:wrap;\n",
              "      gap: 12px;\n",
              "    }\n",
              "\n",
              "    .colab-df-convert {\n",
              "      background-color: #E8F0FE;\n",
              "      border: none;\n",
              "      border-radius: 50%;\n",
              "      cursor: pointer;\n",
              "      display: none;\n",
              "      fill: #1967D2;\n",
              "      height: 32px;\n",
              "      padding: 0 0 0 0;\n",
              "      width: 32px;\n",
              "    }\n",
              "\n",
              "    .colab-df-convert:hover {\n",
              "      background-color: #E2EBFA;\n",
              "      box-shadow: 0px 1px 2px rgba(60, 64, 67, 0.3), 0px 1px 3px 1px rgba(60, 64, 67, 0.15);\n",
              "      fill: #174EA6;\n",
              "    }\n",
              "\n",
              "    [theme=dark] .colab-df-convert {\n",
              "      background-color: #3B4455;\n",
              "      fill: #D2E3FC;\n",
              "    }\n",
              "\n",
              "    [theme=dark] .colab-df-convert:hover {\n",
              "      background-color: #434B5C;\n",
              "      box-shadow: 0px 1px 3px 1px rgba(0, 0, 0, 0.15);\n",
              "      filter: drop-shadow(0px 1px 2px rgba(0, 0, 0, 0.3));\n",
              "      fill: #FFFFFF;\n",
              "    }\n",
              "  </style>\n",
              "\n",
              "      <script>\n",
              "        const buttonEl =\n",
              "          document.querySelector('#df-5b33aaf0-b4c1-4577-bed1-71f765ae3974 button.colab-df-convert');\n",
              "        buttonEl.style.display =\n",
              "          google.colab.kernel.accessAllowed ? 'block' : 'none';\n",
              "\n",
              "        async function convertToInteractive(key) {\n",
              "          const element = document.querySelector('#df-5b33aaf0-b4c1-4577-bed1-71f765ae3974');\n",
              "          const dataTable =\n",
              "            await google.colab.kernel.invokeFunction('convertToInteractive',\n",
              "                                                     [key], {});\n",
              "          if (!dataTable) return;\n",
              "\n",
              "          const docLinkHtml = 'Like what you see? Visit the ' +\n",
              "            '<a target=\"_blank\" href=https://colab.research.google.com/notebooks/data_table.ipynb>data table notebook</a>'\n",
              "            + ' to learn more about interactive tables.';\n",
              "          element.innerHTML = '';\n",
              "          dataTable['output_type'] = 'display_data';\n",
              "          await google.colab.output.renderOutput(dataTable, element);\n",
              "          const docLink = document.createElement('div');\n",
              "          docLink.innerHTML = docLinkHtml;\n",
              "          element.appendChild(docLink);\n",
              "        }\n",
              "      </script>\n",
              "    </div>\n",
              "  </div>\n",
              "  "
            ]
          },
          "metadata": {},
          "execution_count": 14
        }
      ]
    },
    {
      "cell_type": "markdown",
      "source": [
        "b. Mean & Median of **Smoker** Policyholder with **BMI > 25**"
      ],
      "metadata": {
        "id": "3liLemeffC7a"
      }
    },
    {
      "cell_type": "code",
      "source": [
        "insurance_data[(insurance_data['smoker'] == 'yes') & \n",
        "               (insurance_data['bmi'] > 25)].describe()"
      ],
      "metadata": {
        "execution": {
          "iopub.status.busy": "2022-10-07T20:47:20.160702Z",
          "iopub.execute_input": "2022-10-07T20:47:20.161182Z",
          "iopub.status.idle": "2022-10-07T20:47:20.190196Z",
          "shell.execute_reply.started": "2022-10-07T20:47:20.161137Z",
          "shell.execute_reply": "2022-10-07T20:47:20.188239Z"
        },
        "trusted": true,
        "colab": {
          "base_uri": "https://localhost:8080/",
          "height": 300
        },
        "id": "XIhEMmkYfC7a",
        "outputId": "7baafe42-40b5-4bc6-9138-4eb6f7a3613c"
      },
      "execution_count": 15,
      "outputs": [
        {
          "output_type": "execute_result",
          "data": {
            "text/plain": [
              "              age         bmi    children       charges\n",
              "count  219.000000  219.000000  219.000000    219.000000\n",
              "mean    38.817352   32.825890    1.082192  35116.909657\n",
              "std     14.273009    5.136105    1.130317  10702.561195\n",
              "min     18.000000   25.100000    0.000000  15518.180250\n",
              "25%     25.500000   28.345000    0.000000  24601.558775\n",
              "50%     38.000000   32.015000    1.000000  37270.151200\n",
              "75%     50.000000   36.080000    2.000000  42808.670100\n",
              "max     64.000000   52.580000    4.000000  63770.428010"
            ],
            "text/html": [
              "\n",
              "  <div id=\"df-c0a8e01d-b129-4301-a0fb-a5afe0fe12ee\">\n",
              "    <div class=\"colab-df-container\">\n",
              "      <div>\n",
              "<style scoped>\n",
              "    .dataframe tbody tr th:only-of-type {\n",
              "        vertical-align: middle;\n",
              "    }\n",
              "\n",
              "    .dataframe tbody tr th {\n",
              "        vertical-align: top;\n",
              "    }\n",
              "\n",
              "    .dataframe thead th {\n",
              "        text-align: right;\n",
              "    }\n",
              "</style>\n",
              "<table border=\"1\" class=\"dataframe\">\n",
              "  <thead>\n",
              "    <tr style=\"text-align: right;\">\n",
              "      <th></th>\n",
              "      <th>age</th>\n",
              "      <th>bmi</th>\n",
              "      <th>children</th>\n",
              "      <th>charges</th>\n",
              "    </tr>\n",
              "  </thead>\n",
              "  <tbody>\n",
              "    <tr>\n",
              "      <th>count</th>\n",
              "      <td>219.000000</td>\n",
              "      <td>219.000000</td>\n",
              "      <td>219.000000</td>\n",
              "      <td>219.000000</td>\n",
              "    </tr>\n",
              "    <tr>\n",
              "      <th>mean</th>\n",
              "      <td>38.817352</td>\n",
              "      <td>32.825890</td>\n",
              "      <td>1.082192</td>\n",
              "      <td>35116.909657</td>\n",
              "    </tr>\n",
              "    <tr>\n",
              "      <th>std</th>\n",
              "      <td>14.273009</td>\n",
              "      <td>5.136105</td>\n",
              "      <td>1.130317</td>\n",
              "      <td>10702.561195</td>\n",
              "    </tr>\n",
              "    <tr>\n",
              "      <th>min</th>\n",
              "      <td>18.000000</td>\n",
              "      <td>25.100000</td>\n",
              "      <td>0.000000</td>\n",
              "      <td>15518.180250</td>\n",
              "    </tr>\n",
              "    <tr>\n",
              "      <th>25%</th>\n",
              "      <td>25.500000</td>\n",
              "      <td>28.345000</td>\n",
              "      <td>0.000000</td>\n",
              "      <td>24601.558775</td>\n",
              "    </tr>\n",
              "    <tr>\n",
              "      <th>50%</th>\n",
              "      <td>38.000000</td>\n",
              "      <td>32.015000</td>\n",
              "      <td>1.000000</td>\n",
              "      <td>37270.151200</td>\n",
              "    </tr>\n",
              "    <tr>\n",
              "      <th>75%</th>\n",
              "      <td>50.000000</td>\n",
              "      <td>36.080000</td>\n",
              "      <td>2.000000</td>\n",
              "      <td>42808.670100</td>\n",
              "    </tr>\n",
              "    <tr>\n",
              "      <th>max</th>\n",
              "      <td>64.000000</td>\n",
              "      <td>52.580000</td>\n",
              "      <td>4.000000</td>\n",
              "      <td>63770.428010</td>\n",
              "    </tr>\n",
              "  </tbody>\n",
              "</table>\n",
              "</div>\n",
              "      <button class=\"colab-df-convert\" onclick=\"convertToInteractive('df-c0a8e01d-b129-4301-a0fb-a5afe0fe12ee')\"\n",
              "              title=\"Convert this dataframe to an interactive table.\"\n",
              "              style=\"display:none;\">\n",
              "        \n",
              "  <svg xmlns=\"http://www.w3.org/2000/svg\" height=\"24px\"viewBox=\"0 0 24 24\"\n",
              "       width=\"24px\">\n",
              "    <path d=\"M0 0h24v24H0V0z\" fill=\"none\"/>\n",
              "    <path d=\"M18.56 5.44l.94 2.06.94-2.06 2.06-.94-2.06-.94-.94-2.06-.94 2.06-2.06.94zm-11 1L8.5 8.5l.94-2.06 2.06-.94-2.06-.94L8.5 2.5l-.94 2.06-2.06.94zm10 10l.94 2.06.94-2.06 2.06-.94-2.06-.94-.94-2.06-.94 2.06-2.06.94z\"/><path d=\"M17.41 7.96l-1.37-1.37c-.4-.4-.92-.59-1.43-.59-.52 0-1.04.2-1.43.59L10.3 9.45l-7.72 7.72c-.78.78-.78 2.05 0 2.83L4 21.41c.39.39.9.59 1.41.59.51 0 1.02-.2 1.41-.59l7.78-7.78 2.81-2.81c.8-.78.8-2.07 0-2.86zM5.41 20L4 18.59l7.72-7.72 1.47 1.35L5.41 20z\"/>\n",
              "  </svg>\n",
              "      </button>\n",
              "      \n",
              "  <style>\n",
              "    .colab-df-container {\n",
              "      display:flex;\n",
              "      flex-wrap:wrap;\n",
              "      gap: 12px;\n",
              "    }\n",
              "\n",
              "    .colab-df-convert {\n",
              "      background-color: #E8F0FE;\n",
              "      border: none;\n",
              "      border-radius: 50%;\n",
              "      cursor: pointer;\n",
              "      display: none;\n",
              "      fill: #1967D2;\n",
              "      height: 32px;\n",
              "      padding: 0 0 0 0;\n",
              "      width: 32px;\n",
              "    }\n",
              "\n",
              "    .colab-df-convert:hover {\n",
              "      background-color: #E2EBFA;\n",
              "      box-shadow: 0px 1px 2px rgba(60, 64, 67, 0.3), 0px 1px 3px 1px rgba(60, 64, 67, 0.15);\n",
              "      fill: #174EA6;\n",
              "    }\n",
              "\n",
              "    [theme=dark] .colab-df-convert {\n",
              "      background-color: #3B4455;\n",
              "      fill: #D2E3FC;\n",
              "    }\n",
              "\n",
              "    [theme=dark] .colab-df-convert:hover {\n",
              "      background-color: #434B5C;\n",
              "      box-shadow: 0px 1px 3px 1px rgba(0, 0, 0, 0.15);\n",
              "      filter: drop-shadow(0px 1px 2px rgba(0, 0, 0, 0.3));\n",
              "      fill: #FFFFFF;\n",
              "    }\n",
              "  </style>\n",
              "\n",
              "      <script>\n",
              "        const buttonEl =\n",
              "          document.querySelector('#df-c0a8e01d-b129-4301-a0fb-a5afe0fe12ee button.colab-df-convert');\n",
              "        buttonEl.style.display =\n",
              "          google.colab.kernel.accessAllowed ? 'block' : 'none';\n",
              "\n",
              "        async function convertToInteractive(key) {\n",
              "          const element = document.querySelector('#df-c0a8e01d-b129-4301-a0fb-a5afe0fe12ee');\n",
              "          const dataTable =\n",
              "            await google.colab.kernel.invokeFunction('convertToInteractive',\n",
              "                                                     [key], {});\n",
              "          if (!dataTable) return;\n",
              "\n",
              "          const docLinkHtml = 'Like what you see? Visit the ' +\n",
              "            '<a target=\"_blank\" href=https://colab.research.google.com/notebooks/data_table.ipynb>data table notebook</a>'\n",
              "            + ' to learn more about interactive tables.';\n",
              "          element.innerHTML = '';\n",
              "          dataTable['output_type'] = 'display_data';\n",
              "          await google.colab.output.renderOutput(dataTable, element);\n",
              "          const docLink = document.createElement('div');\n",
              "          docLink.innerHTML = docLinkHtml;\n",
              "          element.appendChild(docLink);\n",
              "        }\n",
              "      </script>\n",
              "    </div>\n",
              "  </div>\n",
              "  "
            ]
          },
          "metadata": {},
          "execution_count": 15
        }
      ]
    },
    {
      "cell_type": "markdown",
      "source": [
        "**5. Mean & Median of Smoker Based on Gender**"
      ],
      "metadata": {
        "id": "9ezD3uVkfC7a"
      }
    },
    {
      "cell_type": "markdown",
      "source": [
        "a. Mean & Median of **Smoker Male** Policyholder"
      ],
      "metadata": {
        "id": "j3EcWFSUfC7a"
      }
    },
    {
      "cell_type": "code",
      "source": [
        "insurance_data[(insurance_data['smoker'] == 'yes') & \n",
        "               (insurance_data['sex'] == 'male')].describe()"
      ],
      "metadata": {
        "execution": {
          "iopub.status.busy": "2022-10-07T20:47:20.192511Z",
          "iopub.execute_input": "2022-10-07T20:47:20.193177Z",
          "iopub.status.idle": "2022-10-07T20:47:20.220644Z",
          "shell.execute_reply.started": "2022-10-07T20:47:20.193117Z",
          "shell.execute_reply": "2022-10-07T20:47:20.219381Z"
        },
        "trusted": true,
        "colab": {
          "base_uri": "https://localhost:8080/",
          "height": 300
        },
        "id": "BQA4C9itfC7b",
        "outputId": "b2304019-e043-4d80-8c24-216cfc44ff8b"
      },
      "execution_count": 16,
      "outputs": [
        {
          "output_type": "execute_result",
          "data": {
            "text/plain": [
              "              age         bmi    children       charges\n",
              "count  159.000000  159.000000  159.000000    159.000000\n",
              "mean    38.446541   31.504182    1.188679  33042.005975\n",
              "std     13.751247    5.952028    1.170144  11202.670862\n",
              "min     18.000000   17.290000    0.000000  12829.455100\n",
              "25%     27.000000   27.360000    0.000000  21241.526875\n",
              "50%     38.000000   31.130000    1.000000  36085.219000\n",
              "75%     49.500000   35.565000    2.000000  41797.589050\n",
              "max     64.000000   52.580000    4.000000  62592.873090"
            ],
            "text/html": [
              "\n",
              "  <div id=\"df-3208486a-8627-4e6e-a632-58e9e409b5f0\">\n",
              "    <div class=\"colab-df-container\">\n",
              "      <div>\n",
              "<style scoped>\n",
              "    .dataframe tbody tr th:only-of-type {\n",
              "        vertical-align: middle;\n",
              "    }\n",
              "\n",
              "    .dataframe tbody tr th {\n",
              "        vertical-align: top;\n",
              "    }\n",
              "\n",
              "    .dataframe thead th {\n",
              "        text-align: right;\n",
              "    }\n",
              "</style>\n",
              "<table border=\"1\" class=\"dataframe\">\n",
              "  <thead>\n",
              "    <tr style=\"text-align: right;\">\n",
              "      <th></th>\n",
              "      <th>age</th>\n",
              "      <th>bmi</th>\n",
              "      <th>children</th>\n",
              "      <th>charges</th>\n",
              "    </tr>\n",
              "  </thead>\n",
              "  <tbody>\n",
              "    <tr>\n",
              "      <th>count</th>\n",
              "      <td>159.000000</td>\n",
              "      <td>159.000000</td>\n",
              "      <td>159.000000</td>\n",
              "      <td>159.000000</td>\n",
              "    </tr>\n",
              "    <tr>\n",
              "      <th>mean</th>\n",
              "      <td>38.446541</td>\n",
              "      <td>31.504182</td>\n",
              "      <td>1.188679</td>\n",
              "      <td>33042.005975</td>\n",
              "    </tr>\n",
              "    <tr>\n",
              "      <th>std</th>\n",
              "      <td>13.751247</td>\n",
              "      <td>5.952028</td>\n",
              "      <td>1.170144</td>\n",
              "      <td>11202.670862</td>\n",
              "    </tr>\n",
              "    <tr>\n",
              "      <th>min</th>\n",
              "      <td>18.000000</td>\n",
              "      <td>17.290000</td>\n",
              "      <td>0.000000</td>\n",
              "      <td>12829.455100</td>\n",
              "    </tr>\n",
              "    <tr>\n",
              "      <th>25%</th>\n",
              "      <td>27.000000</td>\n",
              "      <td>27.360000</td>\n",
              "      <td>0.000000</td>\n",
              "      <td>21241.526875</td>\n",
              "    </tr>\n",
              "    <tr>\n",
              "      <th>50%</th>\n",
              "      <td>38.000000</td>\n",
              "      <td>31.130000</td>\n",
              "      <td>1.000000</td>\n",
              "      <td>36085.219000</td>\n",
              "    </tr>\n",
              "    <tr>\n",
              "      <th>75%</th>\n",
              "      <td>49.500000</td>\n",
              "      <td>35.565000</td>\n",
              "      <td>2.000000</td>\n",
              "      <td>41797.589050</td>\n",
              "    </tr>\n",
              "    <tr>\n",
              "      <th>max</th>\n",
              "      <td>64.000000</td>\n",
              "      <td>52.580000</td>\n",
              "      <td>4.000000</td>\n",
              "      <td>62592.873090</td>\n",
              "    </tr>\n",
              "  </tbody>\n",
              "</table>\n",
              "</div>\n",
              "      <button class=\"colab-df-convert\" onclick=\"convertToInteractive('df-3208486a-8627-4e6e-a632-58e9e409b5f0')\"\n",
              "              title=\"Convert this dataframe to an interactive table.\"\n",
              "              style=\"display:none;\">\n",
              "        \n",
              "  <svg xmlns=\"http://www.w3.org/2000/svg\" height=\"24px\"viewBox=\"0 0 24 24\"\n",
              "       width=\"24px\">\n",
              "    <path d=\"M0 0h24v24H0V0z\" fill=\"none\"/>\n",
              "    <path d=\"M18.56 5.44l.94 2.06.94-2.06 2.06-.94-2.06-.94-.94-2.06-.94 2.06-2.06.94zm-11 1L8.5 8.5l.94-2.06 2.06-.94-2.06-.94L8.5 2.5l-.94 2.06-2.06.94zm10 10l.94 2.06.94-2.06 2.06-.94-2.06-.94-.94-2.06-.94 2.06-2.06.94z\"/><path d=\"M17.41 7.96l-1.37-1.37c-.4-.4-.92-.59-1.43-.59-.52 0-1.04.2-1.43.59L10.3 9.45l-7.72 7.72c-.78.78-.78 2.05 0 2.83L4 21.41c.39.39.9.59 1.41.59.51 0 1.02-.2 1.41-.59l7.78-7.78 2.81-2.81c.8-.78.8-2.07 0-2.86zM5.41 20L4 18.59l7.72-7.72 1.47 1.35L5.41 20z\"/>\n",
              "  </svg>\n",
              "      </button>\n",
              "      \n",
              "  <style>\n",
              "    .colab-df-container {\n",
              "      display:flex;\n",
              "      flex-wrap:wrap;\n",
              "      gap: 12px;\n",
              "    }\n",
              "\n",
              "    .colab-df-convert {\n",
              "      background-color: #E8F0FE;\n",
              "      border: none;\n",
              "      border-radius: 50%;\n",
              "      cursor: pointer;\n",
              "      display: none;\n",
              "      fill: #1967D2;\n",
              "      height: 32px;\n",
              "      padding: 0 0 0 0;\n",
              "      width: 32px;\n",
              "    }\n",
              "\n",
              "    .colab-df-convert:hover {\n",
              "      background-color: #E2EBFA;\n",
              "      box-shadow: 0px 1px 2px rgba(60, 64, 67, 0.3), 0px 1px 3px 1px rgba(60, 64, 67, 0.15);\n",
              "      fill: #174EA6;\n",
              "    }\n",
              "\n",
              "    [theme=dark] .colab-df-convert {\n",
              "      background-color: #3B4455;\n",
              "      fill: #D2E3FC;\n",
              "    }\n",
              "\n",
              "    [theme=dark] .colab-df-convert:hover {\n",
              "      background-color: #434B5C;\n",
              "      box-shadow: 0px 1px 3px 1px rgba(0, 0, 0, 0.15);\n",
              "      filter: drop-shadow(0px 1px 2px rgba(0, 0, 0, 0.3));\n",
              "      fill: #FFFFFF;\n",
              "    }\n",
              "  </style>\n",
              "\n",
              "      <script>\n",
              "        const buttonEl =\n",
              "          document.querySelector('#df-3208486a-8627-4e6e-a632-58e9e409b5f0 button.colab-df-convert');\n",
              "        buttonEl.style.display =\n",
              "          google.colab.kernel.accessAllowed ? 'block' : 'none';\n",
              "\n",
              "        async function convertToInteractive(key) {\n",
              "          const element = document.querySelector('#df-3208486a-8627-4e6e-a632-58e9e409b5f0');\n",
              "          const dataTable =\n",
              "            await google.colab.kernel.invokeFunction('convertToInteractive',\n",
              "                                                     [key], {});\n",
              "          if (!dataTable) return;\n",
              "\n",
              "          const docLinkHtml = 'Like what you see? Visit the ' +\n",
              "            '<a target=\"_blank\" href=https://colab.research.google.com/notebooks/data_table.ipynb>data table notebook</a>'\n",
              "            + ' to learn more about interactive tables.';\n",
              "          element.innerHTML = '';\n",
              "          dataTable['output_type'] = 'display_data';\n",
              "          await google.colab.output.renderOutput(dataTable, element);\n",
              "          const docLink = document.createElement('div');\n",
              "          docLink.innerHTML = docLinkHtml;\n",
              "          element.appendChild(docLink);\n",
              "        }\n",
              "      </script>\n",
              "    </div>\n",
              "  </div>\n",
              "  "
            ]
          },
          "metadata": {},
          "execution_count": 16
        }
      ]
    },
    {
      "cell_type": "markdown",
      "source": [
        "b. Mean & Median of **Smoker Female** Policyholder"
      ],
      "metadata": {
        "id": "_vbUEAxqfC7b"
      }
    },
    {
      "cell_type": "code",
      "source": [
        "insurance_data[(insurance_data['smoker'] == 'yes') & \n",
        "               (insurance_data['sex'] == 'female')].describe()"
      ],
      "metadata": {
        "execution": {
          "iopub.status.busy": "2022-10-07T20:47:20.222108Z",
          "iopub.execute_input": "2022-10-07T20:47:20.222454Z",
          "iopub.status.idle": "2022-10-07T20:47:20.250413Z",
          "shell.execute_reply.started": "2022-10-07T20:47:20.222422Z",
          "shell.execute_reply": "2022-10-07T20:47:20.249096Z"
        },
        "trusted": true,
        "colab": {
          "base_uri": "https://localhost:8080/",
          "height": 300
        },
        "id": "vBDO2_OnfC7b",
        "outputId": "c3a0dfe3-adb8-448d-97a0-3160f9498030"
      },
      "execution_count": 17,
      "outputs": [
        {
          "output_type": "execute_result",
          "data": {
            "text/plain": [
              "              age         bmi    children       charges\n",
              "count  115.000000  115.000000  115.000000    115.000000\n",
              "mean    38.608696   29.608261    1.008696  30678.996276\n",
              "std     14.217419    6.663802    1.135516  11907.536381\n",
              "min     18.000000   17.195000    0.000000  13844.506000\n",
              "25%     26.500000   24.650000    0.000000  19696.432100\n",
              "50%     39.000000   28.380000    1.000000  28950.469200\n",
              "75%     48.500000   34.352500    2.000000  40918.314500\n",
              "max     64.000000   47.600000    5.000000  63770.428010"
            ],
            "text/html": [
              "\n",
              "  <div id=\"df-b3195480-a028-4899-ac31-49b70446d878\">\n",
              "    <div class=\"colab-df-container\">\n",
              "      <div>\n",
              "<style scoped>\n",
              "    .dataframe tbody tr th:only-of-type {\n",
              "        vertical-align: middle;\n",
              "    }\n",
              "\n",
              "    .dataframe tbody tr th {\n",
              "        vertical-align: top;\n",
              "    }\n",
              "\n",
              "    .dataframe thead th {\n",
              "        text-align: right;\n",
              "    }\n",
              "</style>\n",
              "<table border=\"1\" class=\"dataframe\">\n",
              "  <thead>\n",
              "    <tr style=\"text-align: right;\">\n",
              "      <th></th>\n",
              "      <th>age</th>\n",
              "      <th>bmi</th>\n",
              "      <th>children</th>\n",
              "      <th>charges</th>\n",
              "    </tr>\n",
              "  </thead>\n",
              "  <tbody>\n",
              "    <tr>\n",
              "      <th>count</th>\n",
              "      <td>115.000000</td>\n",
              "      <td>115.000000</td>\n",
              "      <td>115.000000</td>\n",
              "      <td>115.000000</td>\n",
              "    </tr>\n",
              "    <tr>\n",
              "      <th>mean</th>\n",
              "      <td>38.608696</td>\n",
              "      <td>29.608261</td>\n",
              "      <td>1.008696</td>\n",
              "      <td>30678.996276</td>\n",
              "    </tr>\n",
              "    <tr>\n",
              "      <th>std</th>\n",
              "      <td>14.217419</td>\n",
              "      <td>6.663802</td>\n",
              "      <td>1.135516</td>\n",
              "      <td>11907.536381</td>\n",
              "    </tr>\n",
              "    <tr>\n",
              "      <th>min</th>\n",
              "      <td>18.000000</td>\n",
              "      <td>17.195000</td>\n",
              "      <td>0.000000</td>\n",
              "      <td>13844.506000</td>\n",
              "    </tr>\n",
              "    <tr>\n",
              "      <th>25%</th>\n",
              "      <td>26.500000</td>\n",
              "      <td>24.650000</td>\n",
              "      <td>0.000000</td>\n",
              "      <td>19696.432100</td>\n",
              "    </tr>\n",
              "    <tr>\n",
              "      <th>50%</th>\n",
              "      <td>39.000000</td>\n",
              "      <td>28.380000</td>\n",
              "      <td>1.000000</td>\n",
              "      <td>28950.469200</td>\n",
              "    </tr>\n",
              "    <tr>\n",
              "      <th>75%</th>\n",
              "      <td>48.500000</td>\n",
              "      <td>34.352500</td>\n",
              "      <td>2.000000</td>\n",
              "      <td>40918.314500</td>\n",
              "    </tr>\n",
              "    <tr>\n",
              "      <th>max</th>\n",
              "      <td>64.000000</td>\n",
              "      <td>47.600000</td>\n",
              "      <td>5.000000</td>\n",
              "      <td>63770.428010</td>\n",
              "    </tr>\n",
              "  </tbody>\n",
              "</table>\n",
              "</div>\n",
              "      <button class=\"colab-df-convert\" onclick=\"convertToInteractive('df-b3195480-a028-4899-ac31-49b70446d878')\"\n",
              "              title=\"Convert this dataframe to an interactive table.\"\n",
              "              style=\"display:none;\">\n",
              "        \n",
              "  <svg xmlns=\"http://www.w3.org/2000/svg\" height=\"24px\"viewBox=\"0 0 24 24\"\n",
              "       width=\"24px\">\n",
              "    <path d=\"M0 0h24v24H0V0z\" fill=\"none\"/>\n",
              "    <path d=\"M18.56 5.44l.94 2.06.94-2.06 2.06-.94-2.06-.94-.94-2.06-.94 2.06-2.06.94zm-11 1L8.5 8.5l.94-2.06 2.06-.94-2.06-.94L8.5 2.5l-.94 2.06-2.06.94zm10 10l.94 2.06.94-2.06 2.06-.94-2.06-.94-.94-2.06-.94 2.06-2.06.94z\"/><path d=\"M17.41 7.96l-1.37-1.37c-.4-.4-.92-.59-1.43-.59-.52 0-1.04.2-1.43.59L10.3 9.45l-7.72 7.72c-.78.78-.78 2.05 0 2.83L4 21.41c.39.39.9.59 1.41.59.51 0 1.02-.2 1.41-.59l7.78-7.78 2.81-2.81c.8-.78.8-2.07 0-2.86zM5.41 20L4 18.59l7.72-7.72 1.47 1.35L5.41 20z\"/>\n",
              "  </svg>\n",
              "      </button>\n",
              "      \n",
              "  <style>\n",
              "    .colab-df-container {\n",
              "      display:flex;\n",
              "      flex-wrap:wrap;\n",
              "      gap: 12px;\n",
              "    }\n",
              "\n",
              "    .colab-df-convert {\n",
              "      background-color: #E8F0FE;\n",
              "      border: none;\n",
              "      border-radius: 50%;\n",
              "      cursor: pointer;\n",
              "      display: none;\n",
              "      fill: #1967D2;\n",
              "      height: 32px;\n",
              "      padding: 0 0 0 0;\n",
              "      width: 32px;\n",
              "    }\n",
              "\n",
              "    .colab-df-convert:hover {\n",
              "      background-color: #E2EBFA;\n",
              "      box-shadow: 0px 1px 2px rgba(60, 64, 67, 0.3), 0px 1px 3px 1px rgba(60, 64, 67, 0.15);\n",
              "      fill: #174EA6;\n",
              "    }\n",
              "\n",
              "    [theme=dark] .colab-df-convert {\n",
              "      background-color: #3B4455;\n",
              "      fill: #D2E3FC;\n",
              "    }\n",
              "\n",
              "    [theme=dark] .colab-df-convert:hover {\n",
              "      background-color: #434B5C;\n",
              "      box-shadow: 0px 1px 3px 1px rgba(0, 0, 0, 0.15);\n",
              "      filter: drop-shadow(0px 1px 2px rgba(0, 0, 0, 0.3));\n",
              "      fill: #FFFFFF;\n",
              "    }\n",
              "  </style>\n",
              "\n",
              "      <script>\n",
              "        const buttonEl =\n",
              "          document.querySelector('#df-b3195480-a028-4899-ac31-49b70446d878 button.colab-df-convert');\n",
              "        buttonEl.style.display =\n",
              "          google.colab.kernel.accessAllowed ? 'block' : 'none';\n",
              "\n",
              "        async function convertToInteractive(key) {\n",
              "          const element = document.querySelector('#df-b3195480-a028-4899-ac31-49b70446d878');\n",
              "          const dataTable =\n",
              "            await google.colab.kernel.invokeFunction('convertToInteractive',\n",
              "                                                     [key], {});\n",
              "          if (!dataTable) return;\n",
              "\n",
              "          const docLinkHtml = 'Like what you see? Visit the ' +\n",
              "            '<a target=\"_blank\" href=https://colab.research.google.com/notebooks/data_table.ipynb>data table notebook</a>'\n",
              "            + ' to learn more about interactive tables.';\n",
              "          element.innerHTML = '';\n",
              "          dataTable['output_type'] = 'display_data';\n",
              "          await google.colab.output.renderOutput(dataTable, element);\n",
              "          const docLink = document.createElement('div');\n",
              "          docLink.innerHTML = docLinkHtml;\n",
              "          element.appendChild(docLink);\n",
              "        }\n",
              "      </script>\n",
              "    </div>\n",
              "  </div>\n",
              "  "
            ]
          },
          "metadata": {},
          "execution_count": 17
        }
      ]
    },
    {
      "cell_type": "markdown",
      "source": [
        "**<font size=4>Analysis**"
      ],
      "metadata": {
        "id": "SkpcEDT9fC7c"
      }
    },
    {
      "cell_type": "markdown",
      "source": [
        "* The charges column have outlier\n",
        "* Smoker status have influence on the medical charges amount\n",
        "* BMI have influence on the medical charges amount (lesser influence compared to smoker status)\n",
        "* There is no significant difference in charges between male and female, \n",
        "* However, when comparing male and female smoker, the charges mean and median of male smoker is higher than female smoker. This might caused by difference in variance"
      ],
      "metadata": {
        "id": "2Q2EdOVQfC7c"
      }
    },
    {
      "cell_type": "markdown",
      "source": [
        "**<font size=5>B. Categorical Variables Analysis**\n"
      ],
      "metadata": {
        "id": "ScOQjKr6fC7c"
      }
    },
    {
      "cell_type": "markdown",
      "source": [
        "**1. Proportion Analysis**\n"
      ],
      "metadata": {
        "id": "chivnHXqfC7c"
      }
    },
    {
      "cell_type": "markdown",
      "source": [
        "a. Region Proportion"
      ],
      "metadata": {
        "id": "9RWyFlOcfC7d"
      }
    },
    {
      "cell_type": "code",
      "source": [
        "sw_ph = len(insurance_data[insurance_data[\"region\"]==\"southwest\"])\n",
        "se_ph = len(insurance_data[insurance_data[\"region\"]==\"southeast\"])\n",
        "nw_ph = len(insurance_data[insurance_data[\"region\"]==\"northwest\"])\n",
        "ne_ph = len(insurance_data[insurance_data[\"region\"]==\"northeast\"])\n",
        "\n",
        "print(f\"SW policyholder amount: {sw_ph}\")\n",
        "print(f\"SE policyholder amount: {se_ph}\")\n",
        "print(f\"NW policyholder amount: {nw_ph}\")\n",
        "print(f\"NE policyholder amount: {ne_ph}\")"
      ],
      "metadata": {
        "execution": {
          "iopub.status.busy": "2022-10-07T20:47:20.252076Z",
          "iopub.execute_input": "2022-10-07T20:47:20.252552Z",
          "iopub.status.idle": "2022-10-07T20:47:20.264682Z",
          "shell.execute_reply.started": "2022-10-07T20:47:20.252510Z",
          "shell.execute_reply": "2022-10-07T20:47:20.263271Z"
        },
        "trusted": true,
        "colab": {
          "base_uri": "https://localhost:8080/"
        },
        "id": "m_m9PqDVfC7d",
        "outputId": "ffb708bc-c7c4-4e5a-f166-7fd57e006a82"
      },
      "execution_count": 18,
      "outputs": [
        {
          "output_type": "stream",
          "name": "stdout",
          "text": [
            "SW policyholder amount: 325\n",
            "SE policyholder amount: 364\n",
            "NW policyholder amount: 325\n",
            "NE policyholder amount: 324\n"
          ]
        }
      ]
    },
    {
      "cell_type": "code",
      "source": [
        "region_pie_label = [\"Southwest policyholder\",\"Southeast policyholder\", \"Northwest policyholder\", \"Northeast policyholder\"]\n",
        "region_pie_data = [sw_ph, se_ph, nw_ph, ne_ph]\n",
        "\n",
        "plt.pie(region_pie_data, labels=region_pie_label, colors=sns.color_palette('Set2'), autopct='%.0f%%')"
      ],
      "metadata": {
        "execution": {
          "iopub.status.busy": "2022-10-07T20:47:20.266154Z",
          "iopub.execute_input": "2022-10-07T20:47:20.266614Z",
          "iopub.status.idle": "2022-10-07T20:47:20.458861Z",
          "shell.execute_reply.started": "2022-10-07T20:47:20.266582Z",
          "shell.execute_reply": "2022-10-07T20:47:20.457255Z"
        },
        "trusted": true,
        "colab": {
          "base_uri": "https://localhost:8080/",
          "height": 456
        },
        "id": "tD10fGmYfC7d",
        "outputId": "246fc4c6-60ec-4d96-c103-0e1203c25336"
      },
      "execution_count": 19,
      "outputs": [
        {
          "output_type": "execute_result",
          "data": {
            "text/plain": [
              "([<matplotlib.patches.Wedge at 0x7fc2553aadd0>,\n",
              "  <matplotlib.patches.Wedge at 0x7fc2553b9590>,\n",
              "  <matplotlib.patches.Wedge at 0x7fc2553b9e10>,\n",
              "  <matplotlib.patches.Wedge at 0x7fc255346750>],\n",
              " [Text(0.7949723523462666, 0.7602755809606433, 'Southwest policyholder'),\n",
              "  Text(-0.7967552295083369, 0.7584069516104911, 'Southeast policyholder'),\n",
              "  Text(-0.7201694244483217, -0.8314782018127556, 'Northwest policyholder'),\n",
              "  Text(0.7967551940047443, -0.7584069889092945, 'Northeast policyholder')],\n",
              " [Text(0.43362128309796355, 0.4146957714330781, '24%'),\n",
              "  Text(-0.4345937615500019, 0.4136765190602678, '27%'),\n",
              "  Text(-0.39281968606272083, -0.45353356462513933, '24%'),\n",
              "  Text(0.4345937421844059, -0.41367653940506965, '24%')])"
            ]
          },
          "metadata": {},
          "execution_count": 19
        },
        {
          "output_type": "display_data",
          "data": {
            "text/plain": [
              "<Figure size 432x288 with 1 Axes>"
            ],
            "image/png": "[encoded data removed]"
          },
          "metadata": {}
        }
      ]
    },
    {
      "cell_type": "markdown",
      "source": [
        "b. Smoker Status Proportion"
      ],
      "metadata": {
        "id": "GVM4pwYPfC7e"
      }
    },
    {
      "cell_type": "code",
      "source": [
        "n_smoker = len(insurance_data[insurance_data[\"smoker\"]==\"yes\"])\n",
        "n_non_smoker = len(insurance_data[insurance_data[\"smoker\"]==\"no\"])\n",
        "\n",
        "print(f\"smoker policyholder amount: {n_smoker}\")\n",
        "print(f\"nonsmoker policyholder amount: {n_non_smoker}\")"
      ],
      "metadata": {
        "execution": {
          "iopub.status.busy": "2022-10-07T20:47:20.461074Z",
          "iopub.execute_input": "2022-10-07T20:47:20.462117Z",
          "iopub.status.idle": "2022-10-07T20:47:20.476052Z",
          "shell.execute_reply.started": "2022-10-07T20:47:20.462049Z",
          "shell.execute_reply": "2022-10-07T20:47:20.474458Z"
        },
        "trusted": true,
        "colab": {
          "base_uri": "https://localhost:8080/"
        },
        "id": "ReOq1-dvfC7e",
        "outputId": "ca0b0dc4-0e26-4681-98d5-f2e23a3160ba"
      },
      "execution_count": 20,
      "outputs": [
        {
          "output_type": "stream",
          "name": "stdout",
          "text": [
            "smoker policyholder amount: 274\n",
            "nonsmoker policyholder amount: 1064\n"
          ]
        }
      ]
    },
    {
      "cell_type": "code",
      "source": [
        "smoker_color = ['#6c3461', # Smoker\n",
        "                '#ff796c', # Non-smoker\n",
        "               ]\n",
        "smoker_pie_label = [\"Smoker\", \"Nonsmoker\"]\n",
        "smoker_pie_data = [n_smoker, n_non_smoker]\n",
        "\n",
        "plt.pie(smoker_pie_data, labels=smoker_pie_label, colors=sns.color_palette(smoker_color), autopct='%.0f%%')"
      ],
      "metadata": {
        "execution": {
          "iopub.status.busy": "2022-10-07T20:47:20.478042Z",
          "iopub.execute_input": "2022-10-07T20:47:20.479469Z",
          "iopub.status.idle": "2022-10-07T20:47:20.602988Z",
          "shell.execute_reply.started": "2022-10-07T20:47:20.479401Z",
          "shell.execute_reply": "2022-10-07T20:47:20.601398Z"
        },
        "trusted": true,
        "colab": {
          "base_uri": "https://localhost:8080/",
          "height": 352
        },
        "id": "i5YaLvslfC7e",
        "outputId": "525162c3-500c-4787-e22e-46b3bfed5d5e"
      },
      "execution_count": 21,
      "outputs": [
        {
          "output_type": "execute_result",
          "data": {
            "text/plain": [
              "([<matplotlib.patches.Wedge at 0x7fc254ef3f50>,\n",
              "  <matplotlib.patches.Wedge at 0x7fc254e81750>],\n",
              " [Text(0.8801026332278259, 0.6598631335250115, 'Smoker'),\n",
              "  Text(-0.880102633227826, -0.6598631335250114, 'Nonsmoker')],\n",
              " [Text(0.48005598176063224, 0.35992534555909717, '20%'),\n",
              "  Text(-0.4800559817606323, -0.3599253455590971, '80%')])"
            ]
          },
          "metadata": {},
          "execution_count": 21
        },
        {
          "output_type": "display_data",
          "data": {
            "text/plain": [
              "<Figure size 432x288 with 1 Axes>"
            ],
            "image/png": "[encoded data removed]"
          },
          "metadata": {}
        }
      ]
    },
    {
      "cell_type": "markdown",
      "source": [
        "c. Gender Proportion"
      ],
      "metadata": {
        "id": "lTTCbesLfC7e"
      }
    },
    {
      "cell_type": "code",
      "source": [
        "n_male = len(insurance_data[insurance_data[\"sex\"]==\"male\"])\n",
        "n_female = len(insurance_data[insurance_data[\"sex\"]==\"female\"])\n",
        "\n",
        "print(f\"male policyholder amount: {n_male}\")\n",
        "print(f\"female policyholder amount: {n_female}\")"
      ],
      "metadata": {
        "execution": {
          "iopub.status.busy": "2022-10-07T20:47:20.605074Z",
          "iopub.execute_input": "2022-10-07T20:47:20.606065Z",
          "iopub.status.idle": "2022-10-07T20:47:20.619888Z",
          "shell.execute_reply.started": "2022-10-07T20:47:20.605999Z",
          "shell.execute_reply": "2022-10-07T20:47:20.618385Z"
        },
        "trusted": true,
        "colab": {
          "base_uri": "https://localhost:8080/"
        },
        "id": "3lAgn_GAfC7f",
        "outputId": "5c54d37f-cb3b-40fc-ea72-ffe3b7e4d137"
      },
      "execution_count": 22,
      "outputs": [
        {
          "output_type": "stream",
          "name": "stdout",
          "text": [
            "male policyholder amount: 676\n",
            "female policyholder amount: 662\n"
          ]
        }
      ]
    },
    {
      "cell_type": "code",
      "source": [
        "gender_color = ['#36a4c4', #Male\n",
        "                '#cb416b', #Female\n",
        "               ]\n",
        "gender_pie_label = [\"Male\", \"Female\"]\n",
        "gender_pie_data = [n_male, n_female]\n",
        "\n",
        "plt.pie(gender_pie_data, labels=gender_pie_label, colors=sns.color_palette(gender_color), autopct='%.0f%%')"
      ],
      "metadata": {
        "execution": {
          "iopub.status.busy": "2022-10-07T20:47:20.621881Z",
          "iopub.execute_input": "2022-10-07T20:47:20.623459Z",
          "iopub.status.idle": "2022-10-07T20:47:20.749280Z",
          "shell.execute_reply.started": "2022-10-07T20:47:20.623393Z",
          "shell.execute_reply": "2022-10-07T20:47:20.747756Z"
        },
        "trusted": true,
        "colab": {
          "base_uri": "https://localhost:8080/",
          "height": 352
        },
        "id": "4xz-cVVWfC7f",
        "outputId": "44b59330-dbcb-41a8-fe74-5fc5b7877fff"
      },
      "execution_count": 23,
      "outputs": [
        {
          "output_type": "execute_result",
          "data": {
            "text/plain": [
              "([<matplotlib.patches.Wedge at 0x7fc254e50390>,\n",
              "  <matplotlib.patches.Wedge at 0x7fc254e50b50>],\n",
              " [Text(-0.018078568997004985, 1.0998514287589123, 'Male'),\n",
              "  Text(0.018078568997005343, -1.0998514287589123, 'Female')],\n",
              " [Text(-0.009861037634729992, 0.5999189611412249, '51%'),\n",
              "  Text(0.009861037634730185, -0.5999189611412248, '49%')])"
            ]
          },
          "metadata": {},
          "execution_count": 23
        },
        {
          "output_type": "display_data",
          "data": {
            "text/plain": [
              "<Figure size 432x288 with 1 Axes>"
            ],
            "image/png": "[encoded data removed]"
          },
          "metadata": {}
        }
      ]
    },
    {
      "cell_type": "markdown",
      "source": [
        "**2. Probability Question**"
      ],
      "metadata": {
        "id": "rC4l2aeTfC7f"
      }
    },
    {
      "cell_type": "markdown",
      "source": [
        "Probability of male and female policyholder if he/she known to be a smoker"
      ],
      "metadata": {
        "id": "nwh-jxOhfC7g"
      }
    },
    {
      "cell_type": "code",
      "source": [
        "n_smoker = len(insurance_data[insurance_data[\"smoker\"]==\"yes\"])\n",
        "n_smoker_female = len(insurance_data[(insurance_data[\"smoker\"]==\"yes\") & (insurance_data[\"sex\"]==\"female\")])\n",
        "n_smoker_male = len(insurance_data[(insurance_data[\"smoker\"]==\"yes\") & (insurance_data[\"sex\"]==\"male\")])\n",
        "\n",
        "print(f\"n(smoker)= {n_smoker}\")\n",
        "print(f\"n(smoker n male)= {n_smoker_male}\")\n",
        "print(f\"n(smoker n female)= {n_smoker_female} \\n\")\n",
        "\n",
        "p_smoker_male = n_smoker_male / n_smoker\n",
        "p_smoker_female = n_smoker_female / n_smoker\n",
        "\n",
        "print(f\"P(male|smoker)= {round(p_smoker_male,2)}\")\n",
        "print(f\"P(female|smoker)= {round(p_smoker_female,2)}\")"
      ],
      "metadata": {
        "execution": {
          "iopub.status.busy": "2022-10-07T20:47:20.751349Z",
          "iopub.execute_input": "2022-10-07T20:47:20.752316Z",
          "iopub.status.idle": "2022-10-07T20:47:20.773465Z",
          "shell.execute_reply.started": "2022-10-07T20:47:20.752254Z",
          "shell.execute_reply": "2022-10-07T20:47:20.771919Z"
        },
        "trusted": true,
        "colab": {
          "base_uri": "https://localhost:8080/"
        },
        "id": "VCeAlyKjfC7g",
        "outputId": "b785008e-f73d-491a-983c-b84a002cf26d"
      },
      "execution_count": 24,
      "outputs": [
        {
          "output_type": "stream",
          "name": "stdout",
          "text": [
            "n(smoker)= 274\n",
            "n(smoker n male)= 159\n",
            "n(smoker n female)= 115 \n",
            "\n",
            "P(male|smoker)= 0.58\n",
            "P(female|smoker)= 0.42\n"
          ]
        }
      ]
    },
    {
      "cell_type": "markdown",
      "source": [
        "**<font size=5>C. Continuous Variables Analysis**"
      ],
      "metadata": {
        "id": "kOZUbc2RfC7g"
      }
    },
    {
      "cell_type": "markdown",
      "source": [
        "**1. Which one is more likely to happen between the two condition below:**\n",
        "* Policyholders who is a **smoker** to have medical charges above 16.7k or,\n",
        "* Policyholders who is a **nonsmoker** to have medical charges above 16.7k"
      ],
      "metadata": {
        "id": "yMg9bHX-fC7g"
      }
    },
    {
      "cell_type": "code",
      "source": [
        "n_smoker = len(insurance_data[(insurance_data[\"smoker\"]==\"yes\")])\n",
        "n_smoker_ch167 = len(insurance_data[(insurance_data[\"smoker\"]==\"yes\") & \n",
        "                                    (insurance_data[\"charges\"]>16700)])\n",
        "p_smoker_ch167 = n_smoker_ch167 / n_smoker\n",
        "\n",
        "print(\"n(smoker)=\",n_smoker)\n",
        "print(\"n(smoker n charges>16.7k)=\",n_smoker_ch167)\n",
        "print(\"P(smoker n charges>16.7k)=\",p_smoker_ch167)"
      ],
      "metadata": {
        "execution": {
          "iopub.status.busy": "2022-10-07T20:47:20.775489Z",
          "iopub.execute_input": "2022-10-07T20:47:20.776697Z",
          "iopub.status.idle": "2022-10-07T20:47:20.792969Z",
          "shell.execute_reply.started": "2022-10-07T20:47:20.776615Z",
          "shell.execute_reply": "2022-10-07T20:47:20.791340Z"
        },
        "trusted": true,
        "colab": {
          "base_uri": "https://localhost:8080/"
        },
        "id": "cqXUiTVgfC7g",
        "outputId": "e0e88019-a52d-44d4-efeb-76f7d7a84c26"
      },
      "execution_count": 25,
      "outputs": [
        {
          "output_type": "stream",
          "name": "stdout",
          "text": [
            "n(smoker)= 274\n",
            "n(smoker n charges>16.7k)= 254\n",
            "P(smoker n charges>16.7k)= 0.927007299270073\n"
          ]
        }
      ]
    },
    {
      "cell_type": "code",
      "source": [
        "n_nonsmoker = len(insurance_data[(insurance_data[\"smoker\"]==\"no\")])\n",
        "n_nonsmoker_ch167 = len(insurance_data[(insurance_data[\"smoker\"]==\"no\") & \n",
        "                                       (insurance_data[\"charges\"]>16700)])\n",
        "p_nonsmoker_ch167 = n_nonsmoker_ch167 / n_nonsmoker\n",
        "\n",
        "print(\"n(nonsmoker)=\",n_nonsmoker)\n",
        "print(\"n(nonsmoker n charges>16.7k)=\",n_nonsmoker_ch167)\n",
        "print(\"P(nonsmoker n charges>16.7k)=\",p_nonsmoker_ch167)"
      ],
      "metadata": {
        "execution": {
          "iopub.status.busy": "2022-10-07T20:47:20.795722Z",
          "iopub.execute_input": "2022-10-07T20:47:20.796739Z",
          "iopub.status.idle": "2022-10-07T20:47:20.812950Z",
          "shell.execute_reply.started": "2022-10-07T20:47:20.796654Z",
          "shell.execute_reply": "2022-10-07T20:47:20.811151Z"
        },
        "trusted": true,
        "colab": {
          "base_uri": "https://localhost:8080/"
        },
        "id": "WsDE8xIGfC7h",
        "outputId": "1dd7e5e4-fcd0-43bc-d1ac-1172d9489de1"
      },
      "execution_count": 26,
      "outputs": [
        {
          "output_type": "stream",
          "name": "stdout",
          "text": [
            "n(nonsmoker)= 1064\n",
            "n(nonsmoker n charges>16.7k)= 80\n",
            "P(nonsmoker n charges>16.7k)= 0.07518796992481203\n"
          ]
        }
      ]
    },
    {
      "cell_type": "markdown",
      "source": [
        "> **Policyholder who is a smoker is more likely to have medical charges above 16.7k compared to nonsmoker**"
      ],
      "metadata": {
        "id": "eeB6NKDafC7h"
      }
    },
    {
      "cell_type": "markdown",
      "source": [
        "**2. Which one is more likely to happen between the two condition below:**\n",
        "* Policyholders with BMI above 25 to have medical charges above 16.7k or,\n",
        "* Policyholders with BMI below 25 to have medical charges above 16.7k"
      ],
      "metadata": {
        "id": "0Hfm0gS9fC7i"
      }
    },
    {
      "cell_type": "code",
      "source": [
        "n_bmia25 = len(insurance_data[(insurance_data[\"bmi\"]>25)])\n",
        "n_bmia25_ch167 = len(insurance_data[(insurance_data[\"bmi\"]>25) & \n",
        "                                    (insurance_data[\"charges\"]>16700)])\n",
        "p_bmia25_ch167 = n_bmia25_ch167 / n_bmia25\n",
        "print(\"n(bmi>25)=\",n_bmia25)\n",
        "print(\"n(bmi>25 n charges>16.7k)=\",n_bmia25_ch167)\n",
        "print(\"P(bmi>25 n charges>16.7k)=\",p_bmia25_ch167)"
      ],
      "metadata": {
        "execution": {
          "iopub.status.busy": "2022-10-07T20:47:20.815279Z",
          "iopub.execute_input": "2022-10-07T20:47:20.816456Z",
          "iopub.status.idle": "2022-10-07T20:47:20.831611Z",
          "shell.execute_reply.started": "2022-10-07T20:47:20.816391Z",
          "shell.execute_reply": "2022-10-07T20:47:20.829745Z"
        },
        "trusted": true,
        "colab": {
          "base_uri": "https://localhost:8080/"
        },
        "id": "qclHVHOcfC7i",
        "outputId": "0b5fbea0-e567-4fc8-b81f-7fd69d12a62b"
      },
      "execution_count": 27,
      "outputs": [
        {
          "output_type": "stream",
          "name": "stdout",
          "text": [
            "n(bmi>25)= 1091\n",
            "n(bmi>25 n charges>16.7k)= 283\n",
            "P(bmi>25 n charges>16.7k)= 0.25939505041246563\n"
          ]
        }
      ]
    },
    {
      "cell_type": "code",
      "source": [
        "n_bmiu25 = len(insurance_data[(insurance_data[\"bmi\"]<25)])\n",
        "n_bmiu25_ch167 = len(insurance_data[(insurance_data[\"bmi\"]<25) & \n",
        "                                    (insurance_data[\"charges\"]>16700)])\n",
        "p_bmiu25_ch167 = n_bmiu25_ch167 / n_bmiu25\n",
        "print(\"n(bmi<25)=\", n_bmiu25)\n",
        "print(\"n(bmi<25 n charges>16.7k)=\", n_bmiu25_ch167)\n",
        "print(\"P(bmi<25 n charges>16.7k)=\", p_bmiu25_ch167)"
      ],
      "metadata": {
        "execution": {
          "iopub.status.busy": "2022-10-07T20:47:20.834425Z",
          "iopub.execute_input": "2022-10-07T20:47:20.835398Z",
          "iopub.status.idle": "2022-10-07T20:47:20.845848Z",
          "shell.execute_reply.started": "2022-10-07T20:47:20.835333Z",
          "shell.execute_reply": "2022-10-07T20:47:20.844836Z"
        },
        "trusted": true,
        "colab": {
          "base_uri": "https://localhost:8080/"
        },
        "id": "ugKFpVhPfC7i",
        "outputId": "2ff638b8-c993-470e-9365-2810bce80e54"
      },
      "execution_count": 28,
      "outputs": [
        {
          "output_type": "stream",
          "name": "stdout",
          "text": [
            "n(bmi<25)= 245\n",
            "n(bmi<25 n charges>16.7k)= 51\n",
            "P(bmi<25 n charges>16.7k)= 0.20816326530612245\n"
          ]
        }
      ]
    },
    {
      "cell_type": "markdown",
      "source": [
        "> **Policyholders who have BMI >25 is more likely to have medical charges above 16.7k compared to those with BMI <25**"
      ],
      "metadata": {
        "id": "2XbO7A63fC7j"
      }
    },
    {
      "cell_type": "markdown",
      "source": [
        "**3. Which one is more likely to happen between the two condition below:**\n",
        "* Policyholders who is **a smoker and BMI above 25** to have **medical charges above 16.7k** or,\n",
        "* Policyholders who is **a nonsmoker and BMI above 25** to have **medical charges above 16.7k**"
      ],
      "metadata": {
        "id": "i-I7Tg0LfC7j"
      }
    },
    {
      "cell_type": "code",
      "source": [
        "n_smoker_bmia25 = len(insurance_data[(insurance_data[\"smoker\"]==\"yes\") & \n",
        "                                     (insurance_data[\"bmi\"]>25)])\n",
        "n_smoker_bmia25_ch167 = len(insurance_data[(insurance_data[\"smoker\"]==\"yes\") & \n",
        "                                           (insurance_data[\"bmi\"]>25) & \n",
        "                                           (insurance_data[\"charges\"]>16700)])\n",
        "p_smoker_bmia25_ch167 = n_smoker_bmia25_ch167 / n_smoker_bmia25\n",
        "\n",
        "print(\"n(smoker n BMI>25)=\",n_smoker_bmia25)\n",
        "print(\"n(smoker n BMI>25 n charges>16.7k)=\",n_smoker_bmia25_ch167)\n",
        "print(\"P(charges>16.7k | smoker n BMI>25)=\",p_smoker_bmia25_ch167)"
      ],
      "metadata": {
        "execution": {
          "iopub.status.busy": "2022-10-07T20:47:20.847653Z",
          "iopub.execute_input": "2022-10-07T20:47:20.848308Z",
          "iopub.status.idle": "2022-10-07T20:47:20.864050Z",
          "shell.execute_reply.started": "2022-10-07T20:47:20.848272Z",
          "shell.execute_reply": "2022-10-07T20:47:20.862809Z"
        },
        "trusted": true,
        "colab": {
          "base_uri": "https://localhost:8080/"
        },
        "id": "Ip0FEhASfC7j",
        "outputId": "176bde2f-a7a7-4f38-977e-38d032a62462"
      },
      "execution_count": 29,
      "outputs": [
        {
          "output_type": "stream",
          "name": "stdout",
          "text": [
            "n(smoker n BMI>25)= 219\n",
            "n(smoker n BMI>25 n charges>16.7k)= 215\n",
            "P(charges>16.7k | smoker n BMI>25)= 0.9817351598173516\n"
          ]
        }
      ]
    },
    {
      "cell_type": "code",
      "source": [
        "n_nonsmoker_bmia25 = len(insurance_data[(insurance_data[\"smoker\"]==\"no\") & \n",
        "                                        (insurance_data[\"bmi\"]>25)])\n",
        "n_nonsmoker_bmia25_ch167 = len(insurance_data[(insurance_data[\"smoker\"]==\"no\") & \n",
        "                                              (insurance_data[\"bmi\"]>25) & \n",
        "                                              (insurance_data[\"charges\"]>16700)])\n",
        "p_nonsmoker_bmia25_ch167 = n_nonsmoker_bmia25_ch167 / n_nonsmoker_bmia25\n",
        "\n",
        "print(\"n(nonsmoker n BMI>25)=\",n_nonsmoker_bmia25)\n",
        "print(\"n(nonsmoker n BMI>25 n charges>16.7k)=\",n_nonsmoker_bmia25_ch167)\n",
        "print(\"P(charges>16.7k | nonsmoker n BMI>25)=\",p_nonsmoker_bmia25_ch167)"
      ],
      "metadata": {
        "execution": {
          "iopub.status.busy": "2022-10-07T20:47:20.869817Z",
          "iopub.execute_input": "2022-10-07T20:47:20.870779Z",
          "iopub.status.idle": "2022-10-07T20:47:20.884548Z",
          "shell.execute_reply.started": "2022-10-07T20:47:20.870732Z",
          "shell.execute_reply": "2022-10-07T20:47:20.883233Z"
        },
        "trusted": true,
        "colab": {
          "base_uri": "https://localhost:8080/"
        },
        "id": "YYGb7HD4fC7k",
        "outputId": "d6a30cc5-4a1d-4370-c371-4c655dfebe78"
      },
      "execution_count": 30,
      "outputs": [
        {
          "output_type": "stream",
          "name": "stdout",
          "text": [
            "n(nonsmoker n BMI>25)= 872\n",
            "n(nonsmoker n BMI>25 n charges>16.7k)= 68\n",
            "P(charges>16.7k | nonsmoker n BMI>25)= 0.0779816513761468\n"
          ]
        }
      ]
    },
    {
      "cell_type": "markdown",
      "source": [
        "> **Policyholders who is a smoker and have BMI >25 is more likely to have medical charges above 16.7k compared to policyholders who is a non-smoker and have BMI >25**"
      ],
      "metadata": {
        "id": "ZhBxToABfC7k"
      }
    },
    {
      "cell_type": "markdown",
      "source": [
        "**4. Which one is more likely to happen between the two condition below:**\n",
        "* Policyholders who is **a smoker and BMI below 25** to have **medical charges above 16.7k** or,\n",
        "* Policyholders who is **a non-smoker and BMI below 25** to have **medical charges above 16.7k**"
      ],
      "metadata": {
        "execution": {
          "iopub.status.busy": "2022-10-07T17:35:53.309297Z",
          "iopub.execute_input": "2022-10-07T17:35:53.309718Z",
          "iopub.status.idle": "2022-10-07T17:35:53.317583Z",
          "shell.execute_reply.started": "2022-10-07T17:35:53.309683Z",
          "shell.execute_reply": "2022-10-07T17:35:53.315991Z"
        },
        "id": "18F3SeazfC7l"
      }
    },
    {
      "cell_type": "code",
      "source": [
        "n_smoker_bmiu25 = len(insurance_data[(insurance_data[\"smoker\"]==\"yes\") & \n",
        "                                     (insurance_data[\"bmi\"]<25)])\n",
        "n_smoker_bmiu25_ch167 = len(insurance_data[(insurance_data[\"smoker\"]==\"yes\") & \n",
        "                                           (insurance_data[\"bmi\"]<25) & \n",
        "                                           (insurance_data[\"charges\"]>16700)])\n",
        "p_smoker_bmiu25_ch167 = n_smoker_bmiu25_ch167 / n_smoker_bmiu25\n",
        "\n",
        "print(\"n(smoker n BMI<25)=\",n_smoker_bmiu25)\n",
        "print(\"n(smoker n BMI<25 n charges>16.7k)=\",n_smoker_bmiu25_ch167)\n",
        "print(\"P(charges>16.7k | smoker n BMI<25)=\",p_smoker_bmiu25_ch167)"
      ],
      "metadata": {
        "execution": {
          "iopub.status.busy": "2022-10-07T20:47:20.886155Z",
          "iopub.execute_input": "2022-10-07T20:47:20.886993Z",
          "iopub.status.idle": "2022-10-07T20:47:20.901741Z",
          "shell.execute_reply.started": "2022-10-07T20:47:20.886946Z",
          "shell.execute_reply": "2022-10-07T20:47:20.900273Z"
        },
        "trusted": true,
        "colab": {
          "base_uri": "https://localhost:8080/"
        },
        "id": "qrHFo6SUfC7l",
        "outputId": "bb826f83-0433-482c-d43b-20faa9524a01"
      },
      "execution_count": 31,
      "outputs": [
        {
          "output_type": "stream",
          "name": "stdout",
          "text": [
            "n(smoker n BMI<25)= 55\n",
            "n(smoker n BMI<25 n charges>16.7k)= 39\n",
            "P(charges>16.7k | smoker n BMI<25)= 0.7090909090909091\n"
          ]
        }
      ]
    },
    {
      "cell_type": "code",
      "source": [
        "n_nonsmoker_bmiu25 = len(insurance_data[(insurance_data[\"smoker\"]==\"no\") & \n",
        "                                        (insurance_data[\"bmi\"]<25)])\n",
        "n_nonsmoker_bmiu25_ch167 = len(insurance_data[(insurance_data[\"smoker\"]==\"no\") & \n",
        "                                              (insurance_data[\"bmi\"]<25) & \n",
        "                                              (insurance_data[\"charges\"]>16700)])\n",
        "p_nonsmoker_bmiu25_ch167 = n_nonsmoker_bmiu25_ch167 / n_nonsmoker_bmiu25\n",
        "\n",
        "print(\"n(nonsmoker n BMI<25)=\",n_nonsmoker_bmiu25)\n",
        "print(\"n(nonsmoker n BMI<25 n charges>16.7k)=\",n_nonsmoker_bmiu25_ch167)\n",
        "print(\"P(charges>16.7k | nonsmoker n BMI<25)=\",p_nonsmoker_bmiu25_ch167)"
      ],
      "metadata": {
        "execution": {
          "iopub.status.busy": "2022-10-07T20:47:20.903853Z",
          "iopub.execute_input": "2022-10-07T20:47:20.905109Z",
          "iopub.status.idle": "2022-10-07T20:47:20.918354Z",
          "shell.execute_reply.started": "2022-10-07T20:47:20.905059Z",
          "shell.execute_reply": "2022-10-07T20:47:20.917107Z"
        },
        "trusted": true,
        "colab": {
          "base_uri": "https://localhost:8080/"
        },
        "id": "lMuiV0ddfC7m",
        "outputId": "3474fc6f-4f59-4a8a-b44f-455717deffe8"
      },
      "execution_count": 32,
      "outputs": [
        {
          "output_type": "stream",
          "name": "stdout",
          "text": [
            "n(nonsmoker n BMI<25)= 190\n",
            "n(nonsmoker n BMI<25 n charges>16.7k)= 12\n",
            "P(charges>16.7k | nonsmoker n BMI<25)= 0.06315789473684211\n"
          ]
        }
      ]
    },
    {
      "cell_type": "markdown",
      "source": [
        "> **Policyholders who is a smoker with BMI <25 is more likely to have medical charges above 16.7k compared to policyholders who is a nonsmoker with BMI <25**"
      ],
      "metadata": {
        "id": "Z-QMh-XtfC7n"
      }
    },
    {
      "cell_type": "markdown",
      "source": [
        "**<font size=5>D. Variables Correlation**"
      ],
      "metadata": {
        "id": "dFjEP3pwfC7o"
      }
    },
    {
      "cell_type": "markdown",
      "source": [
        "**1. Correlation between numerical variables**"
      ],
      "metadata": {
        "id": "nFODpuuZfC7o"
      }
    },
    {
      "cell_type": "code",
      "source": [
        "cov_insurance_data = insurance_data.cov()\n",
        "corr_insurance_data = insurance_data.corr()\n",
        "\n",
        "print('covariance between quantitative variables')\n",
        "print(cov_insurance_data,'\\n')\n",
        "print('correlation coefficient between quantitative variables')\n",
        "print(corr_insurance_data)\n",
        "\n",
        "f, ax = plt.subplots(figsize=(5, 4))\n",
        "plt.title(\"Heat map for correlation coefficient between quantitative variables\")\n",
        "sns.heatmap(corr_insurance_data, mask=np.zeros_like(corr_insurance_data, dtype=np.bool), cmap=sns.diverging_palette(240,10,as_cmap=True),\n",
        "            square=True, annot = True, ax=ax)"
      ],
      "metadata": {
        "execution": {
          "iopub.status.busy": "2022-10-07T20:47:20.920019Z",
          "iopub.execute_input": "2022-10-07T20:47:20.920774Z",
          "iopub.status.idle": "2022-10-07T20:47:21.273078Z",
          "shell.execute_reply.started": "2022-10-07T20:47:20.920728Z",
          "shell.execute_reply": "2022-10-07T20:47:21.271721Z"
        },
        "trusted": true,
        "colab": {
          "base_uri": "https://localhost:8080/",
          "height": 524
        },
        "id": "LEn9t59vfC7p",
        "outputId": "6a3f20f1-8642-43ad-ea62-ff96e6fbb7ad"
      },
      "execution_count": 33,
      "outputs": [
        {
          "output_type": "stream",
          "name": "stdout",
          "text": [
            "covariance between quantitative variables\n",
            "                   age           bmi    children       charges\n",
            "age         197.401387      9.362337    0.719303  5.087480e+04\n",
            "bmi           9.362337     37.187884    0.093795  1.464730e+04\n",
            "children      0.719303      0.093795    1.453213  9.926742e+02\n",
            "charges   50874.802298  14647.304426  992.674197  1.466524e+08 \n",
            "\n",
            "correlation coefficient between quantitative variables\n",
            "               age       bmi  children   charges\n",
            "age       1.000000  0.109272  0.042469  0.299008\n",
            "bmi       0.109272  1.000000  0.012759  0.198341\n",
            "children  0.042469  0.012759  1.000000  0.067998\n",
            "charges   0.299008  0.198341  0.067998  1.000000\n"
          ]
        },
        {
          "output_type": "execute_result",
          "data": {
            "text/plain": [
              "<matplotlib.axes._subplots.AxesSubplot at 0x7fc254df8310>"
            ]
          },
          "metadata": {},
          "execution_count": 33
        },
        {
          "output_type": "display_data",
          "data": {
            "text/plain": [
              "<Figure size 360x288 with 2 Axes>"
            ],
            "image/png": "[encoded data removed]"
          },
          "metadata": {
            "needs_background": "light"
          }
        }
      ]
    },
    {
      "cell_type": "markdown",
      "source": [
        "Based on the correlation coefficient value between age and charges have the highest correlation which is 0.3 (positive) and followed by BMI and charges with correlation coefficient value of 0.2 (positive)."
      ],
      "metadata": {
        "id": "05qqzemJfC7p"
      }
    },
    {
      "cell_type": "markdown",
      "source": [
        "**2. Correlation between numerical and categorical variables**"
      ],
      "metadata": {
        "id": "O89kYQb3fC7q"
      }
    },
    {
      "cell_type": "code",
      "source": [
        "plt.subplots_adjust(bottom=1, right=3, top=2)\n",
        "\n",
        "plt.subplot(141)\n",
        "plt.title(\"charges by smoke status\")\n",
        "sns.boxplot(y=\"charges\", x=\"smoker\", data =  insurance_data, palette = 'magma')\n",
        "\n",
        "plt.subplot(142)\n",
        "plt.title(\"bmi by smoke status\")\n",
        "sns.boxplot(y=\"bmi\", x=\"smoker\", data =  insurance_data, palette = 'magma')\n",
        "\n",
        "plt.subplot(143)\n",
        "plt.title(\"children by smoke status\")\n",
        "sns.boxplot(y=\"children\", x=\"smoker\", data =  insurance_data, palette = 'magma')\n",
        "\n",
        "plt.subplot(144)\n",
        "plt.title(\"age by smoke status\")\n",
        "sns.boxplot(y=\"age\", x=\"smoker\", data =  insurance_data, palette = 'magma')"
      ],
      "metadata": {
        "execution": {
          "iopub.status.busy": "2022-10-07T20:47:21.275194Z",
          "iopub.execute_input": "2022-10-07T20:47:21.275692Z",
          "iopub.status.idle": "2022-10-07T20:47:21.930844Z",
          "shell.execute_reply.started": "2022-10-07T20:47:21.275627Z",
          "shell.execute_reply": "2022-10-07T20:47:21.929982Z"
        },
        "trusted": true,
        "colab": {
          "base_uri": "https://localhost:8080/",
          "height": 383
        },
        "id": "igB3ZXPefC7q",
        "outputId": "e9d8ed2c-3133-4d94-f78c-0f35d9150cb1"
      },
      "execution_count": 34,
      "outputs": [
        {
          "output_type": "execute_result",
          "data": {
            "text/plain": [
              "<matplotlib.axes._subplots.AxesSubplot at 0x7fc25240e950>"
            ]
          },
          "metadata": {},
          "execution_count": 34
        },
        {
          "output_type": "display_data",
          "data": {
            "text/plain": [
              "<Figure size 432x288 with 4 Axes>"
            ],
            "image/png": "[encoded data removed]"
          },
          "metadata": {
            "needs_background": "light"
          }
        }
      ]
    },
    {
      "cell_type": "markdown",
      "source": [
        "* Smoker have incured more cost to insurance than nonsmoker. There are outliers in nonsmoker\n",
        "* Despite similar mean, BMI of smoker have higher upper quartile and lower lower qurtile compared to non smoker.\n",
        "* BMI of non smoker has lot of outliers\n",
        "* Number of children of smoker and nonsmoker is almost similar"
      ],
      "metadata": {
        "id": "MLBi669yfC7q"
      }
    },
    {
      "cell_type": "code",
      "source": [
        "plt.subplots_adjust(bottom=1, right=3, top=2)\n",
        "\n",
        "plt.subplot(141)\n",
        "plt.title(\"charges by gender\")\n",
        "sns.boxplot(y=\"charges\", x=\"sex\", data =  insurance_data, palette = 'magma')\n",
        "\n",
        "plt.subplot(142)\n",
        "plt.title(\"bmi by gender\")\n",
        "sns.boxplot(y=\"bmi\", x=\"sex\", data =  insurance_data, palette = 'magma')\n",
        "\n",
        "plt.subplot(143)\n",
        "plt.title(\"children by gender\")\n",
        "sns.boxplot(y=\"children\", x=\"sex\", data =  insurance_data, palette = 'magma')\n",
        "\n",
        "plt.subplot(144)\n",
        "plt.title(\"age by gender\")\n",
        "sns.boxplot(y=\"age\", x=\"sex\", data =  insurance_data, palette = 'magma')"
      ],
      "metadata": {
        "execution": {
          "iopub.status.busy": "2022-10-07T20:47:21.932097Z",
          "iopub.execute_input": "2022-10-07T20:47:21.934077Z",
          "iopub.status.idle": "2022-10-07T20:47:22.544188Z",
          "shell.execute_reply.started": "2022-10-07T20:47:21.934030Z",
          "shell.execute_reply": "2022-10-07T20:47:22.542728Z"
        },
        "trusted": true,
        "colab": {
          "base_uri": "https://localhost:8080/",
          "height": 383
        },
        "id": "JwiLzmxCfC7r",
        "outputId": "5bf4e458-eded-483f-c965-3aedf0e24938"
      },
      "execution_count": 35,
      "outputs": [
        {
          "output_type": "execute_result",
          "data": {
            "text/plain": [
              "<matplotlib.axes._subplots.AxesSubplot at 0x7fc2522198d0>"
            ]
          },
          "metadata": {},
          "execution_count": 35
        },
        {
          "output_type": "display_data",
          "data": {
            "text/plain": [
              "<Figure size 432x288 with 4 Axes>"
            ],
            "image/png": "[encoded data removed]"
          },
          "metadata": {
            "needs_background": "light"
          }
        }
      ]
    },
    {
      "cell_type": "markdown",
      "source": [
        "* Average Age of female policyholders is slightly higher than male policyholders\n",
        "* No of children both male and female customer have is same\n",
        "* BMI of Male policyholders has many outliers and Average BMI of male is slightly higher than female\n",
        "* Male policyholders has incure more charges to insurance compared to female policyholders. There are lot of outliers in female policyholders"
      ],
      "metadata": {
        "id": "UU5t1KmLfC7r"
      }
    },
    {
      "cell_type": "code",
      "source": [
        "plt.subplots_adjust(bottom=1, right=3, top=2)\n",
        "\n",
        "plt.subplot(141)\n",
        "plt.title(\"charges by region\")\n",
        "sns.boxplot(y=\"charges\", x=\"region\", data =  insurance_data, palette = 'magma')\n",
        "\n",
        "plt.subplot(142)\n",
        "plt.title(\"bmi by region\")\n",
        "sns.boxplot(y=\"bmi\", x=\"region\", data =  insurance_data, palette = 'magma')\n",
        "\n",
        "plt.subplot(143)\n",
        "plt.title(\"children by region\")\n",
        "sns.boxplot(y=\"children\", x=\"region\", data =  insurance_data, palette = 'magma')\n",
        "\n",
        "plt.subplot(144)\n",
        "plt.title(\"children by region\")\n",
        "sns.boxplot(y=\"age\", x=\"region\", data =  insurance_data, palette = 'magma')"
      ],
      "metadata": {
        "execution": {
          "iopub.status.busy": "2022-10-07T20:47:22.546043Z",
          "iopub.execute_input": "2022-10-07T20:47:22.547294Z",
          "iopub.status.idle": "2022-10-07T20:47:23.417916Z",
          "shell.execute_reply.started": "2022-10-07T20:47:22.547245Z",
          "shell.execute_reply": "2022-10-07T20:47:23.416348Z"
        },
        "trusted": true,
        "colab": {
          "base_uri": "https://localhost:8080/",
          "height": 383
        },
        "id": "yV1xEF3dfC7r",
        "outputId": "ebda1cb9-08bb-4e7f-850d-ba22ca3487a9"
      },
      "execution_count": 36,
      "outputs": [
        {
          "output_type": "execute_result",
          "data": {
            "text/plain": [
              "<matplotlib.axes._subplots.AxesSubplot at 0x7fc251f78f10>"
            ]
          },
          "metadata": {},
          "execution_count": 36
        },
        {
          "output_type": "display_data",
          "data": {
            "text/plain": [
              "<Figure size 432x288 with 4 Axes>"
            ],
            "image/png": "[encoded data removed]"
          },
          "metadata": {
            "needs_background": "light"
          }
        }
      ]
    },
    {
      "cell_type": "markdown",
      "source": [
        "* Age and number of children across regions is almost same.\n",
        "* Average BMI from southeast higher compared to other regions\n",
        "* Charges incured from southeast is higher compared to other regions\n",
        "* There are lot of outliers on upper end in charges"
      ],
      "metadata": {
        "id": "9x_hGW-rfC7s"
      }
    },
    {
      "cell_type": "markdown",
      "source": [
        "To avoid confounding bias, multivariate analysis need to performed"
      ],
      "metadata": {
        "id": "7o125eLxfC7s"
      }
    },
    {
      "cell_type": "code",
      "source": [
        "smoker_color = ['#6c3461', # Smoker\n",
        "                '#ff796c', # Non-smoker\n",
        "               ]\n",
        "\n",
        "ax = sns.lmplot(x = 'age', y = 'charges', data=insurance_data, hue='smoker', palette=smoker_color)\n",
        "ax = sns.lmplot(x = 'bmi', y = 'charges', data=insurance_data, hue='smoker', palette=smoker_color)\n",
        "ax = sns.lmplot(x = 'children', y = 'charges', data=insurance_data, hue='smoker', palette=smoker_color)"
      ],
      "metadata": {
        "execution": {
          "iopub.status.busy": "2022-10-07T20:47:23.420649Z",
          "iopub.execute_input": "2022-10-07T20:47:23.421530Z",
          "iopub.status.idle": "2022-10-07T20:47:25.777863Z",
          "shell.execute_reply.started": "2022-10-07T20:47:23.421481Z",
          "shell.execute_reply": "2022-10-07T20:47:25.776652Z"
        },
        "trusted": true,
        "colab": {
          "base_uri": "https://localhost:8080/",
          "height": 1000
        },
        "id": "dm8bIB5LfC7s",
        "outputId": "d81c8e79-97a2-4be2-94d1-2a7e4f005ea8"
      },
      "execution_count": 37,
      "outputs": [
        {
          "output_type": "display_data",
          "data": {
            "text/plain": [
              "<Figure size 413.25x360 with 1 Axes>"
            ],
            "image/png": "[encoded data removed]"
          },
          "metadata": {
            "needs_background": "light"
          }
        },
        {
          "output_type": "display_data",
          "data": {
            "text/plain": [
              "<Figure size 413.25x360 with 1 Axes>"
            ],
            "image/png": "[encoded data removed]"
          },
          "metadata": {
            "needs_background": "light"
          }
        },
        {
          "output_type": "display_data",
          "data": {
            "text/plain": [
              "<Figure size 413.25x360 with 1 Axes>"
            ],
            "image/png": "[encoded data removed]"
          },
          "metadata": {
            "needs_background": "light"
          }
        }
      ]
    },
    {
      "cell_type": "markdown",
      "source": [
        "* Both in smoker and non smoker group, age have positive correlation with charges (no bias)\n",
        "* Smoker status affect the correlation between bmi and charges, in which the correlation increase significantly with smoker status\n",
        "* Smoker have less children comparen to nonsmoker\n",
        "* The smoker status have no significant influence on the correlation between charges and children"
      ],
      "metadata": {
        "id": "lR9jSxr5fC7t"
      }
    },
    {
      "cell_type": "markdown",
      "source": [
        "**chi square independency test**"
      ],
      "metadata": {
        "id": "Qd4w1-eTfC7t"
      }
    },
    {
      "cell_type": "code",
      "source": [
        "cont_sex_smoker = pd.crosstab(insurance_data['sex'],\n",
        "                              insurance_data['smoker'])\n",
        "cont_region_smoker = pd.crosstab(insurance_data['region'],\n",
        "                              insurance_data['smoker'])\n",
        "cont_region_sex = pd.crosstab(insurance_data['region'],\n",
        "                              insurance_data['sex'])"
      ],
      "metadata": {
        "execution": {
          "iopub.status.busy": "2022-10-07T20:48:42.176587Z",
          "iopub.execute_input": "2022-10-07T20:48:42.177566Z",
          "iopub.status.idle": "2022-10-07T20:48:42.218396Z",
          "shell.execute_reply.started": "2022-10-07T20:48:42.177524Z",
          "shell.execute_reply": "2022-10-07T20:48:42.216925Z"
        },
        "trusted": true,
        "id": "HXxHH5eCfC7t"
      },
      "execution_count": 38,
      "outputs": []
    },
    {
      "cell_type": "code",
      "source": [
        "#independency test sex-smoker\n",
        "c, p, dof, expected = chi2_contingency(cont_sex_smoker)\n",
        "p\n",
        "\n",
        "# interpret p-value\n",
        "alpha = 0.05\n",
        "print(\"p value is \" + str(p))\n",
        "if p <= alpha:\n",
        "    print('Dependent (reject H0)')\n",
        "else:\n",
        "    print('Independent (H0 holds true)')"
      ],
      "metadata": {
        "execution": {
          "iopub.status.busy": "2022-10-07T20:48:50.540396Z",
          "iopub.execute_input": "2022-10-07T20:48:50.540858Z",
          "iopub.status.idle": "2022-10-07T20:48:50.549072Z",
          "shell.execute_reply.started": "2022-10-07T20:48:50.540819Z",
          "shell.execute_reply": "2022-10-07T20:48:50.547726Z"
        },
        "trusted": true,
        "colab": {
          "base_uri": "https://localhost:8080/"
        },
        "id": "jpIV_w_NfC7t",
        "outputId": "6856812d-7c85-4603-988b-0a0f196164b0"
      },
      "execution_count": 39,
      "outputs": [
        {
          "output_type": "stream",
          "name": "stdout",
          "text": [
            "p value is 0.006548143503580696\n",
            "Dependent (reject H0)\n"
          ]
        }
      ]
    },
    {
      "cell_type": "code",
      "source": [
        "#independency test region-smoker\n",
        "c, p, dof, expected = chi2_contingency(cont_region_smoker)\n",
        "p\n",
        "\n",
        "# interpret p-value\n",
        "alpha = 0.05\n",
        "print(\"p value is \" + str(p))\n",
        "if p <= alpha:\n",
        "    print('Dependent (reject H0)')\n",
        "else:\n",
        "    print('Independent (H0 holds true)')"
      ],
      "metadata": {
        "execution": {
          "iopub.status.busy": "2022-10-07T20:49:00.113830Z",
          "iopub.execute_input": "2022-10-07T20:49:00.114311Z",
          "iopub.status.idle": "2022-10-07T20:49:00.122253Z",
          "shell.execute_reply.started": "2022-10-07T20:49:00.114266Z",
          "shell.execute_reply": "2022-10-07T20:49:00.121298Z"
        },
        "trusted": true,
        "colab": {
          "base_uri": "https://localhost:8080/"
        },
        "id": "vWEvIz5WfC7u",
        "outputId": "7c8aa826-6eb6-4b04-812f-5bd47da0f12b"
      },
      "execution_count": 40,
      "outputs": [
        {
          "output_type": "stream",
          "name": "stdout",
          "text": [
            "p value is 0.06171954839170541\n",
            "Independent (H0 holds true)\n"
          ]
        }
      ]
    },
    {
      "cell_type": "code",
      "source": [
        "#independency test region-sex\n",
        "c, p, dof, expected = chi2_contingency(cont_region_sex)\n",
        "p\n",
        "\n",
        "# interpret p-value\n",
        "alpha = 0.05\n",
        "print(\"p value is \" + str(p))\n",
        "if p <= alpha:\n",
        "    print('Dependent (reject H0)')\n",
        "else:\n",
        "    print('Independent (H0 holds true)')"
      ],
      "metadata": {
        "execution": {
          "iopub.status.busy": "2022-10-07T20:49:33.258240Z",
          "iopub.execute_input": "2022-10-07T20:49:33.258690Z",
          "iopub.status.idle": "2022-10-07T20:49:33.267206Z",
          "shell.execute_reply.started": "2022-10-07T20:49:33.258642Z",
          "shell.execute_reply": "2022-10-07T20:49:33.265875Z"
        },
        "trusted": true,
        "colab": {
          "base_uri": "https://localhost:8080/"
        },
        "id": "QQ36IxI2fC7u",
        "outputId": "9fadd105-a445-4070-af31-3cf1161f4460"
      },
      "execution_count": 41,
      "outputs": [
        {
          "output_type": "stream",
          "name": "stdout",
          "text": [
            "p value is 0.9328921288772233\n",
            "Independent (H0 holds true)\n"
          ]
        }
      ]
    },
    {
      "cell_type": "markdown",
      "source": [
        "**<font size=5>E. Hypotesis Testing**"
      ],
      "metadata": {
        "id": "NOkvHM9EfC7u"
      }
    },
    {
      "cell_type": "markdown",
      "source": [
        "**1. Hypothesis testing: The medical charges of people who smoke is greater than those who don't**"
      ],
      "metadata": {
        "id": "S7q3xHUZfC7u"
      }
    },
    {
      "cell_type": "markdown",
      "source": [
        "1. Define null and alt hypothesis:\n",
        "\n",
        "* H0:μ1 <= μ2 The average charges of smokers is less than or equal to nonsmokers\n",
        "* H1:μ1 > μ2 The average charges of smokers is greater than nonsmokers\n",
        "\n",
        "2. Decide the significance level. If P values is less than alpha reject the null hypothesis.\n",
        "* α = 0.05\n",
        "\n",
        "3. Identify the test:\n",
        "* As standard deviation of the population is not known, T stat test would be appropriate. \n",
        "* The > sign in alternate hypothesis indicate test is right tailed\n",
        "\n",
        "4. check samples amount"
      ],
      "metadata": {
        "id": "Yz_r5P57fC7v"
      }
    },
    {
      "cell_type": "code",
      "source": [
        "n_smoker = len(insurance_data[insurance_data['smoker']=='yes'])\n",
        "n_nonsmoker = len(insurance_data[insurance_data['smoker']=='no'])\n",
        "print('no. of smoker sample:', n_smoker)\n",
        "print('no. of nonsmoker sample:', n_nonsmoker)"
      ],
      "metadata": {
        "execution": {
          "iopub.status.busy": "2022-10-07T20:52:17.231177Z",
          "iopub.execute_input": "2022-10-07T20:52:17.232802Z",
          "iopub.status.idle": "2022-10-07T20:52:17.244172Z",
          "shell.execute_reply.started": "2022-10-07T20:52:17.232745Z",
          "shell.execute_reply": "2022-10-07T20:52:17.242770Z"
        },
        "trusted": true,
        "colab": {
          "base_uri": "https://localhost:8080/"
        },
        "id": "oPrQw95efC7v",
        "outputId": "6f0e6417-b1ae-4b31-f189-f746a9c578ff"
      },
      "execution_count": 42,
      "outputs": [
        {
          "output_type": "stream",
          "name": "stdout",
          "text": [
            "no. of smoker sample: 274\n",
            "no. of nonsmoker sample: 1064\n"
          ]
        }
      ]
    },
    {
      "cell_type": "markdown",
      "source": [
        "5. As the sample size of smoker is unequal with nonsmoker, bartlett test are performed to ensure the variances are equal for all samples:\n",
        "* H0: The variances are equal for all samples\n",
        "* H1: The variances are not equal for one pair or more"
      ],
      "metadata": {
        "id": "1yTKL9dYfC7w"
      }
    },
    {
      "cell_type": "code",
      "source": [
        "smoker_charges = insurance_data.loc[insurance_data['smoker']=='yes','charges']\n",
        "nonsmoker_charges = insurance_data.loc[insurance_data['smoker']=='no','charges']\n",
        "\n",
        "stat_bart, p_bart = stats.bartlett(smoker_charges, nonsmoker_charges)\n",
        "\n",
        "# interpret p-value\n",
        "alpha = 0.05\n",
        "print(\"p value is \" + str(p_bart))\n",
        "if p_bart <= alpha:\n",
        "    print('The variances are not equal (reject H0)')\n",
        "else:\n",
        "    print('The variances are equal (H0 holds true)')"
      ],
      "metadata": {
        "execution": {
          "iopub.status.busy": "2022-10-07T20:52:44.095974Z",
          "iopub.execute_input": "2022-10-07T20:52:44.096482Z",
          "iopub.status.idle": "2022-10-07T20:52:44.109511Z",
          "shell.execute_reply.started": "2022-10-07T20:52:44.096440Z",
          "shell.execute_reply": "2022-10-07T20:52:44.108185Z"
        },
        "trusted": true,
        "colab": {
          "base_uri": "https://localhost:8080/"
        },
        "id": "Zn_IZYq3fC7w",
        "outputId": "84172f88-979f-482f-cc2f-19bbf5208593"
      },
      "execution_count": 43,
      "outputs": [
        {
          "output_type": "stream",
          "name": "stdout",
          "text": [
            "p value is 5.06089742139399e-52\n",
            "The variances are not equal (reject H0)\n"
          ]
        }
      ]
    },
    {
      "cell_type": "markdown",
      "source": [
        "6. As the test shows that the variances are not equal, There are two available methods, which are:\n",
        "\n",
        "* Use Welch’s t-Test.\n",
        "* Or use independent t-test with adjusted sample amount of nonsmoker\n",
        "\n",
        "In this project Welch's t-test will be used. Welch's t-test can be performed by adding \"equal_var=False\""
      ],
      "metadata": {
        "id": "7TjMMjCTfC7w"
      }
    },
    {
      "cell_type": "code",
      "source": [
        "alpha = 0.05\n",
        "t_stat_1, p_val_t1 = stats.ttest_ind(smoker_charges, nonsmoker_charges, equal_var = False)\n",
        "p_value_onetail_1 = p_val_t1/2\n",
        "\n",
        "print(\"test statistic = {} , p-value ={} , one-tail p-value = {}\".format(t_stat_1,p_val_t1, p_value_onetail_1 ))\n",
        "\n",
        "if p_value_onetail_1 < alpha :\n",
        "    print(\"The average charges of smokers is greater than nonsmokers (reject H0)\")\n",
        "    \n",
        "else:\n",
        "    print(\"The average charges of smokers is less than or equal to nonsmokers (H0 holds true)\")"
      ],
      "metadata": {
        "execution": {
          "iopub.status.busy": "2022-10-07T20:53:35.619768Z",
          "iopub.execute_input": "2022-10-07T20:53:35.620488Z",
          "iopub.status.idle": "2022-10-07T20:53:35.635497Z",
          "shell.execute_reply.started": "2022-10-07T20:53:35.620426Z",
          "shell.execute_reply": "2022-10-07T20:53:35.633521Z"
        },
        "trusted": true,
        "colab": {
          "base_uri": "https://localhost:8080/"
        },
        "id": "OtKNxMhnfC7x",
        "outputId": "6ed341b2-0c7e-4e61-af2c-34fd431e2452"
      },
      "execution_count": 44,
      "outputs": [
        {
          "output_type": "stream",
          "name": "stdout",
          "text": [
            "test statistic = 32.751887766341824 , p-value =5.88946444671698e-103 , one-tail p-value = 2.94473222335849e-103\n",
            "The average charges of smokers is greater than nonsmokers (reject H0)\n"
          ]
        }
      ]
    },
    {
      "cell_type": "markdown",
      "source": [
        "**2. Hypothesis testing: The medical charges of people with BMI value above 25 is higher than those those with BMI value under 25**"
      ],
      "metadata": {
        "id": "nD7XhlAifC7x"
      }
    },
    {
      "cell_type": "markdown",
      "source": [
        "1. Define null and alt hypothesis:\n",
        "* H0:μ1 <= μ2  The average charges of insurance customer with BMI above 25 is less than or equal to those with BMI value under 25\n",
        "* H1:μ1 > μ2   The average charges of insurance customer with BMI above 25 is greater than those with BMI value under 25\n",
        "\n",
        "2. Decide the significance level. If P values is less than alpha reject the null hypothesis.\n",
        "* α = 0.05\n",
        "\n",
        "3. Identify the test:\n",
        "* As standard deviation of the population is not known, T stat test would be appropriate. \n",
        "* The > sign in alternate hypothesis indicate test is right tailed\n",
        "\n",
        "4. check samples amount"
      ],
      "metadata": {
        "id": "k8-TlmDxfC7y"
      }
    },
    {
      "cell_type": "code",
      "source": [
        "n_bmi_a_25 = len(insurance_data[insurance_data['bmi']>25])\n",
        "n_bmi_u_25 = len(insurance_data[insurance_data['bmi']<25])\n",
        "print('no. of bmi above 25:', n_bmi_a_25)\n",
        "print('no. of bmi under 25:', n_bmi_u_25)"
      ],
      "metadata": {
        "execution": {
          "iopub.status.busy": "2022-10-07T20:54:59.557057Z",
          "iopub.execute_input": "2022-10-07T20:54:59.557519Z",
          "iopub.status.idle": "2022-10-07T20:54:59.566889Z",
          "shell.execute_reply.started": "2022-10-07T20:54:59.557479Z",
          "shell.execute_reply": "2022-10-07T20:54:59.565741Z"
        },
        "trusted": true,
        "colab": {
          "base_uri": "https://localhost:8080/"
        },
        "id": "0ra08D10fC70",
        "outputId": "a34d8979-e48c-4f56-fac6-16d64eee1ef4"
      },
      "execution_count": 45,
      "outputs": [
        {
          "output_type": "stream",
          "name": "stdout",
          "text": [
            "no. of bmi above 25: 1091\n",
            "no. of bmi under 25: 245\n"
          ]
        }
      ]
    },
    {
      "cell_type": "markdown",
      "source": [
        "5. As the sample size is unequal, **bartlett test** are performed to ensure the variances are equal for all samples:\n",
        "* H0: The variances are equal for all samples\n",
        "* H1: The variances are not equal for one pair or more"
      ],
      "metadata": {
        "id": "letfxDkufC71"
      }
    },
    {
      "cell_type": "code",
      "source": [
        "bmi_a_25_charges = insurance_data.loc[insurance_data['bmi']>25,'charges']\n",
        "bmi_u_25_charges = insurance_data.loc[insurance_data['bmi']<25,'charges']\n",
        "\n",
        "stat_bart, p_bart = stats.bartlett(bmi_a_25_charges, bmi_u_25_charges)\n",
        "\n",
        "# interpret p-value\n",
        "alpha = 0.05\n",
        "print(\"p value is \" + str(p_bart))\n",
        "if p_bart <= alpha:\n",
        "    print('The variances are not equal (reject H0)')\n",
        "else:\n",
        "    print('The variances are equal (H0 holds true)')"
      ],
      "metadata": {
        "execution": {
          "iopub.status.busy": "2022-10-07T20:55:30.983376Z",
          "iopub.execute_input": "2022-10-07T20:55:30.983830Z",
          "iopub.status.idle": "2022-10-07T20:55:30.994907Z",
          "shell.execute_reply.started": "2022-10-07T20:55:30.983793Z",
          "shell.execute_reply": "2022-10-07T20:55:30.993576Z"
        },
        "trusted": true,
        "colab": {
          "base_uri": "https://localhost:8080/"
        },
        "id": "DmA1iTHEfC73",
        "outputId": "b99f8a2a-f05e-4f4b-c0b9-591078cadcaf"
      },
      "execution_count": 46,
      "outputs": [
        {
          "output_type": "stream",
          "name": "stdout",
          "text": [
            "p value is 2.3532085528057478e-21\n",
            "The variances are not equal (reject H0)\n"
          ]
        }
      ]
    },
    {
      "cell_type": "markdown",
      "source": [
        "6. As the test shows that the variances are not equal, There are two available methods, which are:\n",
        "* Use Welch’s t-Test.\n",
        "* Or use independent t-test with adjusted sample amount of nonsmoker \n",
        "\n",
        "In this project Welch's t-test will be used. Welch's t-test can be performed by adding **\"equal_var=False\"**"
      ],
      "metadata": {
        "id": "MTN-L1yIfC74"
      }
    },
    {
      "cell_type": "code",
      "source": [
        "alpha = 0.05\n",
        "t_stat_2, p_val_t2 = stats.ttest_ind(bmi_a_25_charges, bmi_u_25_charges, equal_var = False)\n",
        "p_value_onetail_2 = p_val_t2/2\n",
        "\n",
        "print(\"test statistic = {} , p-value ={} , one-tail p-value = {}\".format(t_stat_2,p_val_t2, p_value_onetail_2 ))\n",
        "\n",
        "if p_value_onetail_2 < alpha :\n",
        "    print(\"The average charges of insurance customer with BMI above 25 is greater than those with BMI value under 25 (reject H0)\")\n",
        "    \n",
        "else:\n",
        "    print(\"The average charges of insurance customer with BMI above 25 is less than or equal to those with BMI value under 25 (H0 holds true)\")"
      ],
      "metadata": {
        "execution": {
          "iopub.status.busy": "2022-10-07T20:55:58.062883Z",
          "iopub.execute_input": "2022-10-07T20:55:58.063485Z",
          "iopub.status.idle": "2022-10-07T20:55:58.073583Z",
          "shell.execute_reply.started": "2022-10-07T20:55:58.063441Z",
          "shell.execute_reply": "2022-10-07T20:55:58.072244Z"
        },
        "trusted": true,
        "colab": {
          "base_uri": "https://localhost:8080/"
        },
        "id": "3MFS99cxfC75",
        "outputId": "88a7346a-2e23-4d7b-fd87-4a11f80fbdb0"
      },
      "execution_count": 47,
      "outputs": [
        {
          "output_type": "stream",
          "name": "stdout",
          "text": [
            "test statistic = 5.929878344096734 , p-value =5.080897303161378e-09 , one-tail p-value = 2.540448651580689e-09\n",
            "The average charges of insurance customer with BMI above 25 is greater than those with BMI value under 25 (reject H0)\n"
          ]
        }
      ]
    },
    {
      "cell_type": "markdown",
      "source": [
        "**3. Hypothesis testing: The medical charges of male is higher than female**"
      ],
      "metadata": {
        "id": "cyW_GGhAfC76"
      }
    },
    {
      "cell_type": "markdown",
      "source": [
        "1. Define null and alt hypothesis:\n",
        "* H0:μ1 <= μ2  The average charges of male is less than or equal to female\n",
        "* H1:μ1 > μ2   The average charges of male is greater than female\n",
        "\n",
        "2. Decide the significance level. If P values is less than alpha reject the null hypothesis.\n",
        "* α = 0.05\n",
        "\n",
        "3. Identify the test:\n",
        "* As standard deviation of the population is not known, T stat test would be appropriate. \n",
        "* The > sign in alternate hypothesis indicate test is right tailed\n",
        "\n",
        "4. Check samples amount"
      ],
      "metadata": {
        "id": "u59S8X4SfC76"
      }
    },
    {
      "cell_type": "code",
      "source": [
        "n_male = len(insurance_data[insurance_data['sex']=='male'])\n",
        "n_female = len(insurance_data[insurance_data['sex']=='female'])\n",
        "print('no. of male:', n_male)\n",
        "print('no. of female', n_female)"
      ],
      "metadata": {
        "execution": {
          "iopub.status.busy": "2022-10-07T20:57:24.876394Z",
          "iopub.execute_input": "2022-10-07T20:57:24.877001Z",
          "iopub.status.idle": "2022-10-07T20:57:24.891721Z",
          "shell.execute_reply.started": "2022-10-07T20:57:24.876957Z",
          "shell.execute_reply": "2022-10-07T20:57:24.889854Z"
        },
        "trusted": true,
        "colab": {
          "base_uri": "https://localhost:8080/"
        },
        "id": "qFVoz5aufC77",
        "outputId": "9dcf4402-9f3f-456a-a620-a238ee4a2f09"
      },
      "execution_count": 48,
      "outputs": [
        {
          "output_type": "stream",
          "name": "stdout",
          "text": [
            "no. of male: 676\n",
            "no. of female 662\n"
          ]
        }
      ]
    },
    {
      "cell_type": "markdown",
      "source": [
        "5. The sample size is almost equal, however we will still do **bartlett test** to ensure the variances are equal for all samples:\n",
        "* H0: The variances are equal for all samples\n",
        "* H1: The variances are not equal for one pair or more"
      ],
      "metadata": {
        "id": "SarJlsBAfC77"
      }
    },
    {
      "cell_type": "code",
      "source": [
        "male_charges = insurance_data.loc[insurance_data['sex']=='male','charges']\n",
        "female_charges = insurance_data.loc[insurance_data['sex']=='female','charges']\n",
        "\n",
        "stat_bart, p_bart = stats.bartlett(male_charges, female_charges)\n",
        "\n",
        "# interpret p-value\n",
        "alpha = 0.05\n",
        "print(\"p value is \" + str(p_bart))\n",
        "if p_bart <= alpha:\n",
        "    print('The variances are not equal (reject H0)')\n",
        "else:\n",
        "    print('The variances are equal (H0 holds true)')"
      ],
      "metadata": {
        "execution": {
          "iopub.status.busy": "2022-10-07T20:58:36.067627Z",
          "iopub.execute_input": "2022-10-07T20:58:36.068112Z",
          "iopub.status.idle": "2022-10-07T20:58:36.079042Z",
          "shell.execute_reply.started": "2022-10-07T20:58:36.068076Z",
          "shell.execute_reply": "2022-10-07T20:58:36.077756Z"
        },
        "trusted": true,
        "colab": {
          "base_uri": "https://localhost:8080/"
        },
        "id": "bERC8DHefC78",
        "outputId": "0cc95014-fc3c-4694-dead-ffdad9bf903d"
      },
      "execution_count": 49,
      "outputs": [
        {
          "output_type": "stream",
          "name": "stdout",
          "text": [
            "p value is 7.886776680290195e-05\n",
            "The variances are not equal (reject H0)\n"
          ]
        }
      ]
    },
    {
      "cell_type": "markdown",
      "source": [
        "6. As the test shows that the variances are not equal, There are two available methods, which are:\n",
        "* Use Welch’s t-Test.\n",
        "* Or use independent t-test with adjusted sample amount of nonsmoker \n",
        "\n",
        "In this project Welch's t-test will be used. Welch's t-test can be performed by adding **\"equal_var=False\"**"
      ],
      "metadata": {
        "id": "eV7qPXOkfC79"
      }
    },
    {
      "cell_type": "code",
      "source": [
        "alpha = 0.05\n",
        "t_stat_3, p_val_t3 = stats.ttest_ind(male_charges, female_charges, equal_var = False)\n",
        "p_value_onetail_3 = p_val_t3/2\n",
        "\n",
        "print(\"test statistic = {} , p-value ={} , one-tail p-value = {}\".format(t_stat_3,p_val_t3, p_value_onetail_3 ))\n",
        "\n",
        "if p_value_onetail_3 < alpha :\n",
        "    print(\"The average charges of male is greater than female (reject H0)\")\n",
        "    \n",
        "else:\n",
        "    print(\"The average charges of male is less than or equal to female (H0 holds true)\")"
      ],
      "metadata": {
        "execution": {
          "iopub.status.busy": "2022-10-07T20:59:09.270576Z",
          "iopub.execute_input": "2022-10-07T20:59:09.271006Z",
          "iopub.status.idle": "2022-10-07T20:59:09.279840Z",
          "shell.execute_reply.started": "2022-10-07T20:59:09.270973Z",
          "shell.execute_reply": "2022-10-07T20:59:09.278711Z"
        },
        "trusted": true,
        "colab": {
          "base_uri": "https://localhost:8080/"
        },
        "id": "_Q-qbXDUfC7-",
        "outputId": "b30cbf29-7388-4f78-aeb2-cc3c3f9f3b58"
      },
      "execution_count": 50,
      "outputs": [
        {
          "output_type": "stream",
          "name": "stdout",
          "text": [
            "test statistic = 2.1008878232359565 , p-value =0.035841014956016645 , one-tail p-value = 0.017920507478008323\n",
            "The average charges of male is greater than female (reject H0)\n"
          ]
        }
      ]
    },
    {
      "cell_type": "markdown",
      "source": [
        "**<font size=5>Conclusion**"
      ],
      "metadata": {
        "id": "cXrY8CtAfC7_"
      }
    },
    {
      "cell_type": "markdown",
      "source": [
        "* Based on the analysis performed, several variables have significant effect on the value of medical charges of an insurance customer. These variables include:\n",
        "    1.  BMI\n",
        "    1.  Age\n",
        "    1.  Smoker Status\n",
        "    1.  Gender\n",
        "* A person with high BMI value are more prone to diseases, which might cause higher medical charges\n",
        "* Gender have effect on the value of charges, in which males have higher charges compared to female. However, the difference between both gender is small\n",
        "* Age have effect on the value of charges, as older customer are more prone to diseases.\n",
        "* Smoker status have big impact on the value of charges\n",
        "* In addition smoker status can increase the effect of BMI and age to the value of charges\n",
        "\n",
        "\n",
        "**Several variables have influence on the medical charges amount. However, the only controllable variables are BMI and smoker status. Thus, the insurance provider should focus on these two variables in order to push down the aggregate medical charges.**"
      ],
      "metadata": {
        "id": "TTqi4IexfC8A"
      }
    }
  ]
}